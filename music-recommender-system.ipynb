{
 "cells": [
  {
   "cell_type": "code",
   "execution_count": 1,
   "id": "1f14c7d9",
   "metadata": {
    "_cell_guid": "b1076dfc-b9ad-4769-8c92-a6c4dae69d19",
    "_uuid": "8f2839f25d086af736a60e9eeb907d3b93b6e0e5",
    "execution": {
     "iopub.execute_input": "2022-09-13T20:50:23.203319Z",
     "iopub.status.busy": "2022-09-13T20:50:23.202550Z",
     "iopub.status.idle": "2022-09-13T20:50:23.219183Z",
     "shell.execute_reply": "2022-09-13T20:50:23.217214Z"
    },
    "papermill": {
     "duration": 0.040159,
     "end_time": "2022-09-13T20:50:23.223338",
     "exception": false,
     "start_time": "2022-09-13T20:50:23.183179",
     "status": "completed"
    },
    "tags": []
   },
   "outputs": [
    {
     "name": "stdout",
     "output_type": "stream",
     "text": [
      "/kaggle/input/kkbox-music-recommendation-challenge/test.csv.7z\n",
      "/kaggle/input/kkbox-music-recommendation-challenge/train.csv.7z\n",
      "/kaggle/input/kkbox-music-recommendation-challenge/songs.csv.7z\n",
      "/kaggle/input/kkbox-music-recommendation-challenge/members.csv.7z\n",
      "/kaggle/input/kkbox-music-recommendation-challenge/song_extra_info.csv.7z\n",
      "/kaggle/input/kkbox-music-recommendation-challenge/sample_submission.csv.7z\n"
     ]
    }
   ],
   "source": [
    "# This Python 3 environment comes with many helpful analytics libraries installed\n",
    "# It is defined by the kaggle/python Docker image: https://github.com/kaggle/docker-python\n",
    "# For example, here's several helpful packages to load\n",
    "\n",
    "import numpy as np # linear algebra\n",
    "import pandas as pd # data processing, CSV file I/O (e.g. pd.read_csv)\n",
    "\n",
    "# Input data files are available in the read-only \"../input/\" directory\n",
    "# For example, running this (by clicking run or pressing Shift+Enter) will list all files under the input directory\n",
    "\n",
    "import os\n",
    "for dirname, _, filenames in os.walk('/kaggle/input'):\n",
    "    for filename in filenames:\n",
    "        print(os.path.join(dirname, filename))\n",
    "\n",
    "# You can write up to 20GB to the current directory (/kaggle/working/) that gets preserved as output when you create a version using \"Save & Run All\" \n",
    "# You can also write temporary files to /kaggle/temp/, but they won't be saved outside of the current session"
   ]
  },
  {
   "cell_type": "code",
   "execution_count": 2,
   "id": "6799a664",
   "metadata": {
    "execution": {
     "iopub.execute_input": "2022-09-13T20:50:23.262141Z",
     "iopub.status.busy": "2022-09-13T20:50:23.261290Z",
     "iopub.status.idle": "2022-09-13T20:50:23.284143Z",
     "shell.execute_reply": "2022-09-13T20:50:23.282555Z"
    },
    "jupyter": {
     "source_hidden": true
    },
    "papermill": {
     "duration": 0.04449,
     "end_time": "2022-09-13T20:50:23.287668",
     "exception": false,
     "start_time": "2022-09-13T20:50:23.243178",
     "status": "completed"
    },
    "tags": []
   },
   "outputs": [],
   "source": [
    "def reduce_mem_usage(df):\n",
    "    \"\"\" iterate through all the columns of a dataframe and modify the data type\n",
    "        to reduce memory usage.        \n",
    "    \"\"\"\n",
    "    start_mem = df.memory_usage().sum() / 1024**2\n",
    "    print('Memory usage of dataframe is {:.2f} MB'.format(start_mem))\n",
    "    \n",
    "    for col in df.columns:\n",
    "        col_type = df[col].dtype\n",
    "        \n",
    "        if col_type != object:\n",
    "            c_min = df[col].min()\n",
    "            c_max = df[col].max()\n",
    "            if str(col_type)[:3] == 'int':\n",
    "                if c_min > np.iinfo(np.int8).min and c_max < np.iinfo(np.int8).max:\n",
    "                    df[col] = df[col].astype(np.int8)\n",
    "                elif c_min > np.iinfo(np.int16).min and c_max < np.iinfo(np.int16).max:\n",
    "                    df[col] = df[col].astype(np.int16)\n",
    "                elif c_min > np.iinfo(np.int32).min and c_max < np.iinfo(np.int32).max:\n",
    "                    df[col] = df[col].astype(np.int32)\n",
    "                elif c_min > np.iinfo(np.int64).min and c_max < np.iinfo(np.int64).max:\n",
    "                    df[col] = df[col].astype(np.int64)  \n",
    "            else:\n",
    "                if c_min > np.finfo(np.float16).min and c_max < np.finfo(np.float16).max:\n",
    "                    df[col] = df[col].astype(np.float16)\n",
    "                elif c_min > np.finfo(np.float32).min and c_max < np.finfo(np.float32).max:\n",
    "                    df[col] = df[col].astype(np.float32)\n",
    "                else:\n",
    "                    df[col] = df[col].astype(np.float64)\n",
    "        else:\n",
    "            df[col] = df[col].astype('category')\n",
    "\n",
    "    end_mem = df.memory_usage().sum() / 1024**2\n",
    "    print('Memory usage after optimization is: {:.2f} MB'.format(end_mem))\n",
    "    print('Decreased by {:.1f}%'.format(100 * (start_mem - end_mem) / start_mem))\n",
    "    \n",
    "    return df"
   ]
  },
  {
   "cell_type": "code",
   "execution_count": 3,
   "id": "0df9d27c",
   "metadata": {
    "execution": {
     "iopub.execute_input": "2022-09-13T20:50:23.326910Z",
     "iopub.status.busy": "2022-09-13T20:50:23.325640Z",
     "iopub.status.idle": "2022-09-13T20:51:59.553813Z",
     "shell.execute_reply": "2022-09-13T20:51:59.552212Z"
    },
    "papermill": {
     "duration": 96.266312,
     "end_time": "2022-09-13T20:51:59.572624",
     "exception": false,
     "start_time": "2022-09-13T20:50:23.306312",
     "status": "completed"
    },
    "tags": []
   },
   "outputs": [
    {
     "name": "stdout",
     "output_type": "stream",
     "text": [
      "Collecting pyunpack\r\n",
      "  Downloading pyunpack-0.3-py2.py3-none-any.whl (4.1 kB)\r\n",
      "Collecting patool\r\n",
      "  Downloading patool-1.12-py2.py3-none-any.whl (77 kB)\r\n",
      "\u001b[2K     \u001b[90m━━━━━━━━━━━━━━━━━━━━━━━━━━━━━━━━━━━━━━━\u001b[0m \u001b[32m77.5/77.5 kB\u001b[0m \u001b[31m813.0 kB/s\u001b[0m eta \u001b[36m0:00:00\u001b[0m\r\n",
      "\u001b[?25hCollecting entrypoint2\r\n",
      "  Downloading entrypoint2-1.1-py2.py3-none-any.whl (9.9 kB)\r\n",
      "Collecting easyprocess\r\n",
      "  Downloading EasyProcess-1.1-py3-none-any.whl (8.7 kB)\r\n",
      "Installing collected packages: patool, entrypoint2, easyprocess, pyunpack\r\n",
      "Successfully installed easyprocess-1.1 entrypoint2-1.1 patool-1.12 pyunpack-0.3\r\n",
      "\u001b[33mWARNING: Running pip as the 'root' user can result in broken permissions and conflicting behaviour with the system package manager. It is recommended to use a virtual environment instead: https://pip.pypa.io/warnings/venv\u001b[0m\u001b[33m\r\n",
      "\u001b[0mReading package lists...\n",
      "Building dependency tree...\n",
      "Reading state information...\n",
      "p7zip is already the newest version (16.02+dfsg-7build1).\n",
      "p7zip set to manually installed.\n",
      "0 upgraded, 0 newly installed, 0 to remove and 29 not upgraded.\n",
      "/kaggle/working\n"
     ]
    },
    {
     "data": {
      "text/html": [
       "<style type='text/css'>\n",
       ".datatable table.frame { margin-bottom: 0; }\n",
       ".datatable table.frame thead { border-bottom: none; }\n",
       ".datatable table.frame tr.coltypes td {  color: #FFFFFF;  line-height: 6px;  padding: 0 0.5em;}\n",
       ".datatable .bool    { background: #DDDD99; }\n",
       ".datatable .object  { background: #565656; }\n",
       ".datatable .int     { background: #5D9E5D; }\n",
       ".datatable .float   { background: #4040CC; }\n",
       ".datatable .str     { background: #CC4040; }\n",
       ".datatable .time    { background: #40CC40; }\n",
       ".datatable .row_index {  background: var(--jp-border-color3);  border-right: 1px solid var(--jp-border-color0);  color: var(--jp-ui-font-color3);  font-size: 9px;}\n",
       ".datatable .frame tbody td { text-align: left; }\n",
       ".datatable .frame tr.coltypes .row_index {  background: var(--jp-border-color0);}\n",
       ".datatable th:nth-child(2) { padding-left: 12px; }\n",
       ".datatable .hellipsis {  color: var(--jp-cell-editor-border-color);}\n",
       ".datatable .vellipsis {  background: var(--jp-layout-color0);  color: var(--jp-cell-editor-border-color);}\n",
       ".datatable .na {  color: var(--jp-cell-editor-border-color);  font-size: 80%;}\n",
       ".datatable .sp {  opacity: 0.25;}\n",
       ".datatable .footer { font-size: 9px; }\n",
       ".datatable .frame_dimensions {  background: var(--jp-border-color3);  border-top: 1px solid var(--jp-border-color0);  color: var(--jp-ui-font-color3);  display: inline-block;  opacity: 0.6;  padding: 1px 10px 1px 5px;}\n",
       "</style>\n"
      ],
      "text/plain": [
       "<IPython.core.display.HTML object>"
      ]
     },
     "metadata": {},
     "output_type": "display_data"
    },
    {
     "name": "stdout",
     "output_type": "stream",
     "text": [
      "Memory usage of dataframe is 288.46 MB\n",
      "Memory usage after optimization is: 89.45 MB\n",
      "Decreased by 69.0%\n",
      "Memory usage of dataframe is 107.29 MB\n",
      "Memory usage after optimization is: 42.17 MB\n",
      "Decreased by 60.7%\n",
      "Memory usage of dataframe is 113.88 MB\n",
      "Memory usage after optimization is: 159.83 MB\n",
      "Decreased by -40.4%\n",
      "Memory usage of dataframe is 1.18 MB\n",
      "Memory usage after optimization is: 1.83 MB\n",
      "Decreased by -54.8%\n"
     ]
    }
   ],
   "source": [
    "!pip install pyunpack patool\n",
    "\n",
    "import os , sys\n",
    "from pyunpack.cli import Archive\n",
    "\n",
    "os.system('apt-get install p7zip')\n",
    "print(os.getcwd()) #/kaggle/working\n",
    "import datatable as dt\n",
    "\n",
    "directory = '/kaggle/working/'\n",
    "Archive('/kaggle/input/kkbox-music-recommendation-challenge/train.csv.7z').extractall(directory)\n",
    "Archive('/kaggle/input/kkbox-music-recommendation-challenge/test.csv.7z').extractall(directory)\n",
    "Archive('/kaggle/input/kkbox-music-recommendation-challenge/songs.csv.7z').extractall(directory)\n",
    "Archive('/kaggle/input/kkbox-music-recommendation-challenge/members.csv.7z').extractall(directory)\n",
    "Archive('/kaggle/input/kkbox-music-recommendation-challenge/song_extra_info.csv.7z').extractall(directory)\n",
    "\n",
    "#sys.exit(\"Error message\")\n",
    "train_df = reduce_mem_usage(dt.fread('./train.csv').to_pandas())\n",
    "test_df = reduce_mem_usage(dt.fread('./test.csv').to_pandas())\n",
    "songs_df = reduce_mem_usage(dt.fread('./songs.csv').to_pandas()) #'composer', 'lyricist'\n",
    "members_df = reduce_mem_usage(dt.fread('./members.csv').to_pandas())"
   ]
  },
  {
   "cell_type": "code",
   "execution_count": 4,
   "id": "619c0097",
   "metadata": {
    "execution": {
     "iopub.execute_input": "2022-09-13T20:51:59.610525Z",
     "iopub.status.busy": "2022-09-13T20:51:59.609510Z",
     "iopub.status.idle": "2022-09-13T20:51:59.616253Z",
     "shell.execute_reply": "2022-09-13T20:51:59.614903Z"
    },
    "papermill": {
     "duration": 0.028447,
     "end_time": "2022-09-13T20:51:59.618667",
     "exception": false,
     "start_time": "2022-09-13T20:51:59.590220",
     "status": "completed"
    },
    "tags": []
   },
   "outputs": [
    {
     "name": "stdout",
     "output_type": "stream",
     "text": [
      "Data loading completed!\n",
      "(7377418, 6) (2556790, 6) (2296320, 7) (34403, 7)\n"
     ]
    }
   ],
   "source": [
    "print('Data loading completed!')\n",
    "print(train_df.shape, test_df.shape, songs_df.shape, members_df.shape)"
   ]
  },
  {
   "cell_type": "code",
   "execution_count": 5,
   "id": "474d085a",
   "metadata": {
    "execution": {
     "iopub.execute_input": "2022-09-13T20:51:59.656829Z",
     "iopub.status.busy": "2022-09-13T20:51:59.656091Z",
     "iopub.status.idle": "2022-09-13T20:51:59.677202Z",
     "shell.execute_reply": "2022-09-13T20:51:59.676040Z"
    },
    "papermill": {
     "duration": 0.043281,
     "end_time": "2022-09-13T20:51:59.679803",
     "exception": false,
     "start_time": "2022-09-13T20:51:59.636522",
     "status": "completed"
    },
    "tags": []
   },
   "outputs": [
    {
     "data": {
      "text/html": [
       "<div>\n",
       "<style scoped>\n",
       "    .dataframe tbody tr th:only-of-type {\n",
       "        vertical-align: middle;\n",
       "    }\n",
       "\n",
       "    .dataframe tbody tr th {\n",
       "        vertical-align: top;\n",
       "    }\n",
       "\n",
       "    .dataframe thead th {\n",
       "        text-align: right;\n",
       "    }\n",
       "</style>\n",
       "<table border=\"1\" class=\"dataframe\">\n",
       "  <thead>\n",
       "    <tr style=\"text-align: right;\">\n",
       "      <th></th>\n",
       "      <th>msno</th>\n",
       "      <th>song_id</th>\n",
       "      <th>source_system_tab</th>\n",
       "      <th>source_screen_name</th>\n",
       "      <th>source_type</th>\n",
       "      <th>target</th>\n",
       "    </tr>\n",
       "  </thead>\n",
       "  <tbody>\n",
       "    <tr>\n",
       "      <th>0</th>\n",
       "      <td>FGtllVqz18RPiwJj/edr2gV78zirAiY/9SmYvia+kCg=</td>\n",
       "      <td>BBzumQNXUHKdEBOB7mAJuzok+IJA1c2Ryg/yzTF6tik=</td>\n",
       "      <td>explore</td>\n",
       "      <td>Explore</td>\n",
       "      <td>online-playlist</td>\n",
       "      <td>1.0</td>\n",
       "    </tr>\n",
       "    <tr>\n",
       "      <th>1</th>\n",
       "      <td>Xumu+NIjS6QYVxDS4/t3SawvJ7viT9hPKXmf0RtLNx8=</td>\n",
       "      <td>bhp/MpSNoqoxOIB+/l8WPqu6jldth4DIpCm3ayXnJqM=</td>\n",
       "      <td>my library</td>\n",
       "      <td>Local playlist more</td>\n",
       "      <td>local-playlist</td>\n",
       "      <td>1.0</td>\n",
       "    </tr>\n",
       "    <tr>\n",
       "      <th>2</th>\n",
       "      <td>Xumu+NIjS6QYVxDS4/t3SawvJ7viT9hPKXmf0RtLNx8=</td>\n",
       "      <td>JNWfrrC7zNN7BdMpsISKa4Mw+xVJYNnxXh3/Epw7QgY=</td>\n",
       "      <td>my library</td>\n",
       "      <td>Local playlist more</td>\n",
       "      <td>local-playlist</td>\n",
       "      <td>1.0</td>\n",
       "    </tr>\n",
       "    <tr>\n",
       "      <th>3</th>\n",
       "      <td>Xumu+NIjS6QYVxDS4/t3SawvJ7viT9hPKXmf0RtLNx8=</td>\n",
       "      <td>2A87tzfnJTSWqD7gIZHisolhe4DMdzkbd6LzO1KHjNs=</td>\n",
       "      <td>my library</td>\n",
       "      <td>Local playlist more</td>\n",
       "      <td>local-playlist</td>\n",
       "      <td>1.0</td>\n",
       "    </tr>\n",
       "    <tr>\n",
       "      <th>4</th>\n",
       "      <td>FGtllVqz18RPiwJj/edr2gV78zirAiY/9SmYvia+kCg=</td>\n",
       "      <td>3qm6XTZ6MOCU11x8FIVbAGH5l5uMkT3/ZalWG1oo2Gc=</td>\n",
       "      <td>explore</td>\n",
       "      <td>Explore</td>\n",
       "      <td>online-playlist</td>\n",
       "      <td>1.0</td>\n",
       "    </tr>\n",
       "  </tbody>\n",
       "</table>\n",
       "</div>"
      ],
      "text/plain": [
       "                                           msno  \\\n",
       "0  FGtllVqz18RPiwJj/edr2gV78zirAiY/9SmYvia+kCg=   \n",
       "1  Xumu+NIjS6QYVxDS4/t3SawvJ7viT9hPKXmf0RtLNx8=   \n",
       "2  Xumu+NIjS6QYVxDS4/t3SawvJ7viT9hPKXmf0RtLNx8=   \n",
       "3  Xumu+NIjS6QYVxDS4/t3SawvJ7viT9hPKXmf0RtLNx8=   \n",
       "4  FGtllVqz18RPiwJj/edr2gV78zirAiY/9SmYvia+kCg=   \n",
       "\n",
       "                                        song_id source_system_tab  \\\n",
       "0  BBzumQNXUHKdEBOB7mAJuzok+IJA1c2Ryg/yzTF6tik=           explore   \n",
       "1  bhp/MpSNoqoxOIB+/l8WPqu6jldth4DIpCm3ayXnJqM=        my library   \n",
       "2  JNWfrrC7zNN7BdMpsISKa4Mw+xVJYNnxXh3/Epw7QgY=        my library   \n",
       "3  2A87tzfnJTSWqD7gIZHisolhe4DMdzkbd6LzO1KHjNs=        my library   \n",
       "4  3qm6XTZ6MOCU11x8FIVbAGH5l5uMkT3/ZalWG1oo2Gc=           explore   \n",
       "\n",
       "    source_screen_name      source_type  target  \n",
       "0              Explore  online-playlist     1.0  \n",
       "1  Local playlist more   local-playlist     1.0  \n",
       "2  Local playlist more   local-playlist     1.0  \n",
       "3  Local playlist more   local-playlist     1.0  \n",
       "4              Explore  online-playlist     1.0  "
      ]
     },
     "execution_count": 5,
     "metadata": {},
     "output_type": "execute_result"
    }
   ],
   "source": [
    "train_df.head()"
   ]
  },
  {
   "cell_type": "code",
   "execution_count": 6,
   "id": "f5ed105d",
   "metadata": {
    "execution": {
     "iopub.execute_input": "2022-09-13T20:51:59.719068Z",
     "iopub.status.busy": "2022-09-13T20:51:59.718648Z",
     "iopub.status.idle": "2022-09-13T20:51:59.817970Z",
     "shell.execute_reply": "2022-09-13T20:51:59.816803Z"
    },
    "papermill": {
     "duration": 0.121885,
     "end_time": "2022-09-13T20:51:59.820687",
     "exception": false,
     "start_time": "2022-09-13T20:51:59.698802",
     "status": "completed"
    },
    "tags": []
   },
   "outputs": [
    {
     "data": {
      "text/plain": [
       "msno                  0\n",
       "song_id               0\n",
       "source_system_tab     0\n",
       "source_screen_name    0\n",
       "source_type           0\n",
       "target                0\n",
       "dtype: int64"
      ]
     },
     "execution_count": 6,
     "metadata": {},
     "output_type": "execute_result"
    }
   ],
   "source": [
    "train_df.isnull().sum()"
   ]
  },
  {
   "cell_type": "code",
   "execution_count": 7,
   "id": "52bcee98",
   "metadata": {
    "execution": {
     "iopub.execute_input": "2022-09-13T20:51:59.860638Z",
     "iopub.status.busy": "2022-09-13T20:51:59.859406Z",
     "iopub.status.idle": "2022-09-13T20:51:59.876666Z",
     "shell.execute_reply": "2022-09-13T20:51:59.875444Z"
    },
    "papermill": {
     "duration": 0.039941,
     "end_time": "2022-09-13T20:51:59.879208",
     "exception": false,
     "start_time": "2022-09-13T20:51:59.839267",
     "status": "completed"
    },
    "tags": []
   },
   "outputs": [
    {
     "data": {
      "text/html": [
       "<div>\n",
       "<style scoped>\n",
       "    .dataframe tbody tr th:only-of-type {\n",
       "        vertical-align: middle;\n",
       "    }\n",
       "\n",
       "    .dataframe tbody tr th {\n",
       "        vertical-align: top;\n",
       "    }\n",
       "\n",
       "    .dataframe thead th {\n",
       "        text-align: right;\n",
       "    }\n",
       "</style>\n",
       "<table border=\"1\" class=\"dataframe\">\n",
       "  <thead>\n",
       "    <tr style=\"text-align: right;\">\n",
       "      <th></th>\n",
       "      <th>id</th>\n",
       "      <th>msno</th>\n",
       "      <th>song_id</th>\n",
       "      <th>source_system_tab</th>\n",
       "      <th>source_screen_name</th>\n",
       "      <th>source_type</th>\n",
       "    </tr>\n",
       "  </thead>\n",
       "  <tbody>\n",
       "    <tr>\n",
       "      <th>0</th>\n",
       "      <td>0</td>\n",
       "      <td>V8ruy7SGk7tDm3zA51DPpn6qutt+vmKMBKa21dp54uM=</td>\n",
       "      <td>WmHKgKMlp1lQMecNdNvDMkvIycZYHnFwDT72I5sIssc=</td>\n",
       "      <td>my library</td>\n",
       "      <td>Local playlist more</td>\n",
       "      <td>local-library</td>\n",
       "    </tr>\n",
       "    <tr>\n",
       "      <th>1</th>\n",
       "      <td>1</td>\n",
       "      <td>V8ruy7SGk7tDm3zA51DPpn6qutt+vmKMBKa21dp54uM=</td>\n",
       "      <td>y/rsZ9DC7FwK5F2PK2D5mj+aOBUJAjuu3dZ14NgE0vM=</td>\n",
       "      <td>my library</td>\n",
       "      <td>Local playlist more</td>\n",
       "      <td>local-library</td>\n",
       "    </tr>\n",
       "    <tr>\n",
       "      <th>2</th>\n",
       "      <td>2</td>\n",
       "      <td>/uQAlrAkaczV+nWCd2sPF2ekvXPRipV7q0l+gbLuxjw=</td>\n",
       "      <td>8eZLFOdGVdXBSqoAv5nsLigeH2BvKXzTQYtUM53I0k4=</td>\n",
       "      <td>discover</td>\n",
       "      <td></td>\n",
       "      <td>song-based-playlist</td>\n",
       "    </tr>\n",
       "    <tr>\n",
       "      <th>3</th>\n",
       "      <td>3</td>\n",
       "      <td>1a6oo/iXKatxQx4eS9zTVD+KlSVaAFbTIqVvwLC1Y0k=</td>\n",
       "      <td>ztCf8thYsS4YN3GcIL/bvoxLm/T5mYBVKOO4C9NiVfQ=</td>\n",
       "      <td>radio</td>\n",
       "      <td>Radio</td>\n",
       "      <td>radio</td>\n",
       "    </tr>\n",
       "    <tr>\n",
       "      <th>4</th>\n",
       "      <td>4</td>\n",
       "      <td>1a6oo/iXKatxQx4eS9zTVD+KlSVaAFbTIqVvwLC1Y0k=</td>\n",
       "      <td>MKVMpslKcQhMaFEgcEQhEfi5+RZhMYlU3eRDpySrH8Y=</td>\n",
       "      <td>radio</td>\n",
       "      <td>Radio</td>\n",
       "      <td>radio</td>\n",
       "    </tr>\n",
       "  </tbody>\n",
       "</table>\n",
       "</div>"
      ],
      "text/plain": [
       "   id                                          msno  \\\n",
       "0   0  V8ruy7SGk7tDm3zA51DPpn6qutt+vmKMBKa21dp54uM=   \n",
       "1   1  V8ruy7SGk7tDm3zA51DPpn6qutt+vmKMBKa21dp54uM=   \n",
       "2   2  /uQAlrAkaczV+nWCd2sPF2ekvXPRipV7q0l+gbLuxjw=   \n",
       "3   3  1a6oo/iXKatxQx4eS9zTVD+KlSVaAFbTIqVvwLC1Y0k=   \n",
       "4   4  1a6oo/iXKatxQx4eS9zTVD+KlSVaAFbTIqVvwLC1Y0k=   \n",
       "\n",
       "                                        song_id source_system_tab  \\\n",
       "0  WmHKgKMlp1lQMecNdNvDMkvIycZYHnFwDT72I5sIssc=        my library   \n",
       "1  y/rsZ9DC7FwK5F2PK2D5mj+aOBUJAjuu3dZ14NgE0vM=        my library   \n",
       "2  8eZLFOdGVdXBSqoAv5nsLigeH2BvKXzTQYtUM53I0k4=          discover   \n",
       "3  ztCf8thYsS4YN3GcIL/bvoxLm/T5mYBVKOO4C9NiVfQ=             radio   \n",
       "4  MKVMpslKcQhMaFEgcEQhEfi5+RZhMYlU3eRDpySrH8Y=             radio   \n",
       "\n",
       "    source_screen_name          source_type  \n",
       "0  Local playlist more        local-library  \n",
       "1  Local playlist more        local-library  \n",
       "2                       song-based-playlist  \n",
       "3                Radio                radio  \n",
       "4                Radio                radio  "
      ]
     },
     "execution_count": 7,
     "metadata": {},
     "output_type": "execute_result"
    }
   ],
   "source": [
    "test_df.head()"
   ]
  },
  {
   "cell_type": "markdown",
   "id": "d046783e",
   "metadata": {
    "papermill": {
     "duration": 0.017719,
     "end_time": "2022-09-13T20:51:59.915801",
     "exception": false,
     "start_time": "2022-09-13T20:51:59.898082",
     "status": "completed"
    },
    "tags": []
   },
   "source": [
    "# Cleaning and Feature engeneering on the members dataframe"
   ]
  },
  {
   "cell_type": "code",
   "execution_count": 8,
   "id": "ce870f26",
   "metadata": {
    "execution": {
     "iopub.execute_input": "2022-09-13T20:51:59.953881Z",
     "iopub.status.busy": "2022-09-13T20:51:59.953450Z",
     "iopub.status.idle": "2022-09-13T20:51:59.996000Z",
     "shell.execute_reply": "2022-09-13T20:51:59.994762Z"
    },
    "papermill": {
     "duration": 0.064797,
     "end_time": "2022-09-13T20:51:59.998672",
     "exception": false,
     "start_time": "2022-09-13T20:51:59.933875",
     "status": "completed"
    },
    "tags": []
   },
   "outputs": [
    {
     "data": {
      "text/plain": [
       "song_id        0\n",
       "song_length    0\n",
       "genre_ids      0\n",
       "artist_name    0\n",
       "composer       0\n",
       "lyricist       0\n",
       "language       1\n",
       "dtype: int64"
      ]
     },
     "execution_count": 8,
     "metadata": {},
     "output_type": "execute_result"
    }
   ],
   "source": [
    "songs_df.isnull().sum()"
   ]
  },
  {
   "cell_type": "code",
   "execution_count": 9,
   "id": "6e1c57fe",
   "metadata": {
    "execution": {
     "iopub.execute_input": "2022-09-13T20:52:00.036974Z",
     "iopub.status.busy": "2022-09-13T20:52:00.036592Z",
     "iopub.status.idle": "2022-09-13T20:52:00.053535Z",
     "shell.execute_reply": "2022-09-13T20:52:00.052316Z"
    },
    "papermill": {
     "duration": 0.039376,
     "end_time": "2022-09-13T20:52:00.056016",
     "exception": false,
     "start_time": "2022-09-13T20:52:00.016640",
     "status": "completed"
    },
    "tags": []
   },
   "outputs": [
    {
     "data": {
      "text/html": [
       "<div>\n",
       "<style scoped>\n",
       "    .dataframe tbody tr th:only-of-type {\n",
       "        vertical-align: middle;\n",
       "    }\n",
       "\n",
       "    .dataframe tbody tr th {\n",
       "        vertical-align: top;\n",
       "    }\n",
       "\n",
       "    .dataframe thead th {\n",
       "        text-align: right;\n",
       "    }\n",
       "</style>\n",
       "<table border=\"1\" class=\"dataframe\">\n",
       "  <thead>\n",
       "    <tr style=\"text-align: right;\">\n",
       "      <th></th>\n",
       "      <th>song_id</th>\n",
       "      <th>song_length</th>\n",
       "      <th>genre_ids</th>\n",
       "      <th>artist_name</th>\n",
       "      <th>composer</th>\n",
       "      <th>lyricist</th>\n",
       "      <th>language</th>\n",
       "    </tr>\n",
       "  </thead>\n",
       "  <tbody>\n",
       "    <tr>\n",
       "      <th>0</th>\n",
       "      <td>CXoTN1eb7AI+DntdU1vbcwGRV4SCIDxZu+YD8JP8r4E=</td>\n",
       "      <td>247640</td>\n",
       "      <td>465</td>\n",
       "      <td>張信哲 (Jeff Chang)</td>\n",
       "      <td>董貞</td>\n",
       "      <td>何啟弘</td>\n",
       "      <td>3.0</td>\n",
       "    </tr>\n",
       "    <tr>\n",
       "      <th>1</th>\n",
       "      <td>o0kFgae9QtnYgRkVPqLJwa05zIhRlUjfF7O1tDw0ZDU=</td>\n",
       "      <td>197328</td>\n",
       "      <td>444</td>\n",
       "      <td>BLACKPINK</td>\n",
       "      <td>TEDDY|  FUTURE BOUNCE|  Bekuh BOOM</td>\n",
       "      <td>TEDDY</td>\n",
       "      <td>31.0</td>\n",
       "    </tr>\n",
       "    <tr>\n",
       "      <th>2</th>\n",
       "      <td>DwVvVurfpuz+XPuFvucclVQEyPqcpUkHR0ne1RQzPs0=</td>\n",
       "      <td>231781</td>\n",
       "      <td>465</td>\n",
       "      <td>SUPER JUNIOR</td>\n",
       "      <td></td>\n",
       "      <td></td>\n",
       "      <td>31.0</td>\n",
       "    </tr>\n",
       "    <tr>\n",
       "      <th>3</th>\n",
       "      <td>dKMBWoZyScdxSkihKG+Vf47nc18N9q4m58+b4e7dSSE=</td>\n",
       "      <td>273554</td>\n",
       "      <td>465</td>\n",
       "      <td>S.H.E</td>\n",
       "      <td>湯小康</td>\n",
       "      <td>徐世珍</td>\n",
       "      <td>3.0</td>\n",
       "    </tr>\n",
       "    <tr>\n",
       "      <th>4</th>\n",
       "      <td>W3bqWd3T+VeHFzHAUfARgW9AvVRaF4N5Yzm4Mr6Eo/o=</td>\n",
       "      <td>140329</td>\n",
       "      <td>726</td>\n",
       "      <td>貴族精選</td>\n",
       "      <td>Traditional</td>\n",
       "      <td>Traditional</td>\n",
       "      <td>52.0</td>\n",
       "    </tr>\n",
       "  </tbody>\n",
       "</table>\n",
       "</div>"
      ],
      "text/plain": [
       "                                        song_id  song_length genre_ids  \\\n",
       "0  CXoTN1eb7AI+DntdU1vbcwGRV4SCIDxZu+YD8JP8r4E=       247640       465   \n",
       "1  o0kFgae9QtnYgRkVPqLJwa05zIhRlUjfF7O1tDw0ZDU=       197328       444   \n",
       "2  DwVvVurfpuz+XPuFvucclVQEyPqcpUkHR0ne1RQzPs0=       231781       465   \n",
       "3  dKMBWoZyScdxSkihKG+Vf47nc18N9q4m58+b4e7dSSE=       273554       465   \n",
       "4  W3bqWd3T+VeHFzHAUfARgW9AvVRaF4N5Yzm4Mr6Eo/o=       140329       726   \n",
       "\n",
       "        artist_name                            composer     lyricist  language  \n",
       "0  張信哲 (Jeff Chang)                                  董貞          何啟弘       3.0  \n",
       "1         BLACKPINK  TEDDY|  FUTURE BOUNCE|  Bekuh BOOM        TEDDY      31.0  \n",
       "2      SUPER JUNIOR                                                       31.0  \n",
       "3             S.H.E                                 湯小康          徐世珍       3.0  \n",
       "4              貴族精選                         Traditional  Traditional      52.0  "
      ]
     },
     "execution_count": 9,
     "metadata": {},
     "output_type": "execute_result"
    }
   ],
   "source": [
    "songs_df.head()"
   ]
  },
  {
   "cell_type": "code",
   "execution_count": 10,
   "id": "38d5d277",
   "metadata": {
    "execution": {
     "iopub.execute_input": "2022-09-13T20:52:00.095072Z",
     "iopub.status.busy": "2022-09-13T20:52:00.094289Z",
     "iopub.status.idle": "2022-09-13T20:52:00.121185Z",
     "shell.execute_reply": "2022-09-13T20:52:00.119903Z"
    },
    "papermill": {
     "duration": 0.049397,
     "end_time": "2022-09-13T20:52:00.123865",
     "exception": false,
     "start_time": "2022-09-13T20:52:00.074468",
     "status": "completed"
    },
    "tags": []
   },
   "outputs": [
    {
     "data": {
      "text/plain": [
       "465         567911\n",
       "958         176349\n",
       "2022        168870\n",
       "1609        166457\n",
       "2122        139938\n",
       "             ...  \n",
       "465|1007         1\n",
       "1138|430         1\n",
       "458|698          1\n",
       "1208|139         1\n",
       "423|531          1\n",
       "Name: genre_ids, Length: 1046, dtype: int64"
      ]
     },
     "execution_count": 10,
     "metadata": {},
     "output_type": "execute_result"
    }
   ],
   "source": [
    "songs_df.genre_ids.value_counts()"
   ]
  },
  {
   "cell_type": "code",
   "execution_count": 11,
   "id": "692718ca",
   "metadata": {
    "execution": {
     "iopub.execute_input": "2022-09-13T20:52:00.163851Z",
     "iopub.status.busy": "2022-09-13T20:52:00.162990Z",
     "iopub.status.idle": "2022-09-13T20:52:00.198070Z",
     "shell.execute_reply": "2022-09-13T20:52:00.197102Z"
    },
    "papermill": {
     "duration": 0.057884,
     "end_time": "2022-09-13T20:52:00.200843",
     "exception": false,
     "start_time": "2022-09-13T20:52:00.142959",
     "status": "completed"
    },
    "tags": []
   },
   "outputs": [],
   "source": [
    "df_idx = songs_df[\"genre_ids\"].str.split('|')"
   ]
  },
  {
   "cell_type": "code",
   "execution_count": 12,
   "id": "8b81866e",
   "metadata": {
    "execution": {
     "iopub.execute_input": "2022-09-13T20:52:00.239840Z",
     "iopub.status.busy": "2022-09-13T20:52:00.239346Z",
     "iopub.status.idle": "2022-09-13T21:00:16.952043Z",
     "shell.execute_reply": "2022-09-13T21:00:16.950088Z"
    },
    "papermill": {
     "duration": 496.758477,
     "end_time": "2022-09-13T21:00:16.977771",
     "exception": false,
     "start_time": "2022-09-13T20:52:00.219294",
     "status": "completed"
    },
    "tags": []
   },
   "outputs": [
    {
     "name": "stdout",
     "output_type": "stream",
     "text": [
      "496.7021346092224\n"
     ]
    }
   ],
   "source": [
    "import time\n",
    "\n",
    "start = time.time()\n",
    "\n",
    "songs_df = pd.concat([songs_df.drop('genre_ids', axis = 1 ), df_idx.apply(pd.Series)], axis=1)\n",
    "\n",
    "end = time.time()\n",
    "print(end - start)"
   ]
  },
  {
   "cell_type": "markdown",
   "id": "71d4b7d3",
   "metadata": {
    "papermill": {
     "duration": 0.018827,
     "end_time": "2022-09-13T21:00:17.015910",
     "exception": false,
     "start_time": "2022-09-13T21:00:16.997083",
     "status": "completed"
    },
    "tags": []
   },
   "source": [
    "#### filling our only null value"
   ]
  },
  {
   "cell_type": "code",
   "execution_count": 13,
   "id": "1270296b",
   "metadata": {
    "execution": {
     "iopub.execute_input": "2022-09-13T21:00:17.055545Z",
     "iopub.status.busy": "2022-09-13T21:00:17.055028Z",
     "iopub.status.idle": "2022-09-13T21:00:17.461172Z",
     "shell.execute_reply": "2022-09-13T21:00:17.459867Z"
    },
    "papermill": {
     "duration": 0.429656,
     "end_time": "2022-09-13T21:00:17.463983",
     "exception": false,
     "start_time": "2022-09-13T21:00:17.034327",
     "status": "completed"
    },
    "tags": []
   },
   "outputs": [
    {
     "data": {
      "text/plain": [
       "31.0    125\n",
       "3.0      27\n",
       "52.0      2\n",
       "Name: language, dtype: int64"
      ]
     },
     "execution_count": 13,
     "metadata": {},
     "output_type": "execute_result"
    }
   ],
   "source": [
    "songs_df[songs_df['composer'].str.startswith('Korean')].language.value_counts()"
   ]
  },
  {
   "cell_type": "code",
   "execution_count": 14,
   "id": "6e7ccd5a",
   "metadata": {
    "execution": {
     "iopub.execute_input": "2022-09-13T21:00:17.502833Z",
     "iopub.status.busy": "2022-09-13T21:00:17.502404Z",
     "iopub.status.idle": "2022-09-13T21:00:17.521534Z",
     "shell.execute_reply": "2022-09-13T21:00:17.520221Z"
    },
    "papermill": {
     "duration": 0.04165,
     "end_time": "2022-09-13T21:00:17.524321",
     "exception": false,
     "start_time": "2022-09-13T21:00:17.482671",
     "status": "completed"
    },
    "tags": []
   },
   "outputs": [],
   "source": [
    "songs_df.loc[songs_df['language'].isnull(),'language'] = 31.0"
   ]
  },
  {
   "cell_type": "code",
   "execution_count": 15,
   "id": "0a877b2a",
   "metadata": {
    "execution": {
     "iopub.execute_input": "2022-09-13T21:00:17.563635Z",
     "iopub.status.busy": "2022-09-13T21:00:17.563191Z",
     "iopub.status.idle": "2022-09-13T21:00:18.216104Z",
     "shell.execute_reply": "2022-09-13T21:00:18.215006Z"
    },
    "papermill": {
     "duration": 0.675894,
     "end_time": "2022-09-13T21:00:18.218853",
     "exception": false,
     "start_time": "2022-09-13T21:00:17.542959",
     "status": "completed"
    },
    "tags": []
   },
   "outputs": [
    {
     "data": {
      "text/plain": [
       "song_id              0\n",
       "song_length          0\n",
       "artist_name          0\n",
       "composer             0\n",
       "lyricist             0\n",
       "language             0\n",
       "0                    0\n",
       "1              2123444\n",
       "2              2262277\n",
       "3              2286341\n",
       "4              2295089\n",
       "5              2296157\n",
       "6              2296247\n",
       "7              2296309\n",
       "dtype: int64"
      ]
     },
     "execution_count": 15,
     "metadata": {},
     "output_type": "execute_result"
    }
   ],
   "source": [
    "songs_df.isnull().sum()"
   ]
  },
  {
   "cell_type": "markdown",
   "id": "8e356d46",
   "metadata": {
    "papermill": {
     "duration": 0.018314,
     "end_time": "2022-09-13T21:00:18.256138",
     "exception": false,
     "start_time": "2022-09-13T21:00:18.237824",
     "status": "completed"
    },
    "tags": []
   },
   "source": [
    "# Cleaning and Feature engeneering on the members dataframe"
   ]
  },
  {
   "cell_type": "code",
   "execution_count": 16,
   "id": "c3c52429",
   "metadata": {
    "execution": {
     "iopub.execute_input": "2022-09-13T21:00:18.297658Z",
     "iopub.status.busy": "2022-09-13T21:00:18.297184Z",
     "iopub.status.idle": "2022-09-13T21:00:18.313238Z",
     "shell.execute_reply": "2022-09-13T21:00:18.311741Z"
    },
    "papermill": {
     "duration": 0.039913,
     "end_time": "2022-09-13T21:00:18.315817",
     "exception": false,
     "start_time": "2022-09-13T21:00:18.275904",
     "status": "completed"
    },
    "tags": []
   },
   "outputs": [
    {
     "data": {
      "text/html": [
       "<div>\n",
       "<style scoped>\n",
       "    .dataframe tbody tr th:only-of-type {\n",
       "        vertical-align: middle;\n",
       "    }\n",
       "\n",
       "    .dataframe tbody tr th {\n",
       "        vertical-align: top;\n",
       "    }\n",
       "\n",
       "    .dataframe thead th {\n",
       "        text-align: right;\n",
       "    }\n",
       "</style>\n",
       "<table border=\"1\" class=\"dataframe\">\n",
       "  <thead>\n",
       "    <tr style=\"text-align: right;\">\n",
       "      <th></th>\n",
       "      <th>msno</th>\n",
       "      <th>city</th>\n",
       "      <th>bd</th>\n",
       "      <th>gender</th>\n",
       "      <th>registered_via</th>\n",
       "      <th>registration_init_time</th>\n",
       "      <th>expiration_date</th>\n",
       "    </tr>\n",
       "  </thead>\n",
       "  <tbody>\n",
       "    <tr>\n",
       "      <th>0</th>\n",
       "      <td>XQxgAYj3klVKjR3oxPPXYYFp4soD4TuBghkhMTD4oTw=</td>\n",
       "      <td>1</td>\n",
       "      <td>0</td>\n",
       "      <td></td>\n",
       "      <td>7</td>\n",
       "      <td>20110820</td>\n",
       "      <td>20170920</td>\n",
       "    </tr>\n",
       "    <tr>\n",
       "      <th>1</th>\n",
       "      <td>UizsfmJb9mV54qE9hCYyU07Va97c0lCRLEQX3ae+ztM=</td>\n",
       "      <td>1</td>\n",
       "      <td>0</td>\n",
       "      <td></td>\n",
       "      <td>7</td>\n",
       "      <td>20150628</td>\n",
       "      <td>20170622</td>\n",
       "    </tr>\n",
       "    <tr>\n",
       "      <th>2</th>\n",
       "      <td>D8nEhsIOBSoE6VthTaqDX8U6lqjJ7dLdr72mOyLya2A=</td>\n",
       "      <td>1</td>\n",
       "      <td>0</td>\n",
       "      <td></td>\n",
       "      <td>4</td>\n",
       "      <td>20160411</td>\n",
       "      <td>20170712</td>\n",
       "    </tr>\n",
       "    <tr>\n",
       "      <th>3</th>\n",
       "      <td>mCuD+tZ1hERA/o5GPqk38e041J8ZsBaLcu7nGoIIvhI=</td>\n",
       "      <td>1</td>\n",
       "      <td>0</td>\n",
       "      <td></td>\n",
       "      <td>9</td>\n",
       "      <td>20150906</td>\n",
       "      <td>20150907</td>\n",
       "    </tr>\n",
       "    <tr>\n",
       "      <th>4</th>\n",
       "      <td>q4HRBfVSssAFS9iRfxWrohxuk9kCYMKjHOEagUMV6rQ=</td>\n",
       "      <td>1</td>\n",
       "      <td>0</td>\n",
       "      <td></td>\n",
       "      <td>4</td>\n",
       "      <td>20170126</td>\n",
       "      <td>20170613</td>\n",
       "    </tr>\n",
       "  </tbody>\n",
       "</table>\n",
       "</div>"
      ],
      "text/plain": [
       "                                           msno  city  bd gender  \\\n",
       "0  XQxgAYj3klVKjR3oxPPXYYFp4soD4TuBghkhMTD4oTw=     1   0          \n",
       "1  UizsfmJb9mV54qE9hCYyU07Va97c0lCRLEQX3ae+ztM=     1   0          \n",
       "2  D8nEhsIOBSoE6VthTaqDX8U6lqjJ7dLdr72mOyLya2A=     1   0          \n",
       "3  mCuD+tZ1hERA/o5GPqk38e041J8ZsBaLcu7nGoIIvhI=     1   0          \n",
       "4  q4HRBfVSssAFS9iRfxWrohxuk9kCYMKjHOEagUMV6rQ=     1   0          \n",
       "\n",
       "   registered_via  registration_init_time  expiration_date  \n",
       "0               7                20110820         20170920  \n",
       "1               7                20150628         20170622  \n",
       "2               4                20160411         20170712  \n",
       "3               9                20150906         20150907  \n",
       "4               4                20170126         20170613  "
      ]
     },
     "execution_count": 16,
     "metadata": {},
     "output_type": "execute_result"
    }
   ],
   "source": [
    "members_df.head()"
   ]
  },
  {
   "cell_type": "code",
   "execution_count": 17,
   "id": "7d24327f",
   "metadata": {
    "execution": {
     "iopub.execute_input": "2022-09-13T21:00:18.357015Z",
     "iopub.status.busy": "2022-09-13T21:00:18.356593Z",
     "iopub.status.idle": "2022-09-13T21:00:18.439078Z",
     "shell.execute_reply": "2022-09-13T21:00:18.437826Z"
    },
    "papermill": {
     "duration": 0.105928,
     "end_time": "2022-09-13T21:00:18.442071",
     "exception": false,
     "start_time": "2022-09-13T21:00:18.336143",
     "status": "completed"
    },
    "tags": []
   },
   "outputs": [],
   "source": [
    "members_df['registration_init_time'] = pd.to_datetime(members_df['registration_init_time'], format='%Y%m%d')\n",
    "members_df['reg_year'] = members_df['registration_init_time'].dt.year\n",
    "members_df['reg_month'] = members_df['registration_init_time'].dt.month\n",
    "members_df['reg_day'] = members_df['registration_init_time'].dt.day\n",
    "\n",
    "# expiration_date\n",
    "members_df['expiration_date'] = pd.to_datetime(members_df['expiration_date'],  format='%Y%m%d')\n",
    "members_df['exp_year'] = members_df['expiration_date'].dt.year\n",
    "members_df['exp_month'] = members_df['expiration_date'].dt.month\n",
    "members_df['exp_day'] = members_df['expiration_date'].dt.day"
   ]
  },
  {
   "cell_type": "code",
   "execution_count": 18,
   "id": "55d10ef4",
   "metadata": {
    "execution": {
     "iopub.execute_input": "2022-09-13T21:00:18.482802Z",
     "iopub.status.busy": "2022-09-13T21:00:18.482027Z",
     "iopub.status.idle": "2022-09-13T21:00:18.493409Z",
     "shell.execute_reply": "2022-09-13T21:00:18.492518Z"
    },
    "papermill": {
     "duration": 0.034753,
     "end_time": "2022-09-13T21:00:18.496071",
     "exception": false,
     "start_time": "2022-09-13T21:00:18.461318",
     "status": "completed"
    },
    "tags": []
   },
   "outputs": [],
   "source": [
    "members_df.drop(['registration_init_time','expiration_date'] , axis = 1 , inplace= True)"
   ]
  },
  {
   "cell_type": "code",
   "execution_count": 19,
   "id": "8ca61c4c",
   "metadata": {
    "execution": {
     "iopub.execute_input": "2022-09-13T21:00:18.536344Z",
     "iopub.status.busy": "2022-09-13T21:00:18.535509Z",
     "iopub.status.idle": "2022-09-13T21:00:18.552219Z",
     "shell.execute_reply": "2022-09-13T21:00:18.550920Z"
    },
    "papermill": {
     "duration": 0.040127,
     "end_time": "2022-09-13T21:00:18.554955",
     "exception": false,
     "start_time": "2022-09-13T21:00:18.514828",
     "status": "completed"
    },
    "tags": []
   },
   "outputs": [
    {
     "data": {
      "text/html": [
       "<div>\n",
       "<style scoped>\n",
       "    .dataframe tbody tr th:only-of-type {\n",
       "        vertical-align: middle;\n",
       "    }\n",
       "\n",
       "    .dataframe tbody tr th {\n",
       "        vertical-align: top;\n",
       "    }\n",
       "\n",
       "    .dataframe thead th {\n",
       "        text-align: right;\n",
       "    }\n",
       "</style>\n",
       "<table border=\"1\" class=\"dataframe\">\n",
       "  <thead>\n",
       "    <tr style=\"text-align: right;\">\n",
       "      <th></th>\n",
       "      <th>msno</th>\n",
       "      <th>city</th>\n",
       "      <th>bd</th>\n",
       "      <th>gender</th>\n",
       "      <th>registered_via</th>\n",
       "      <th>reg_year</th>\n",
       "      <th>reg_month</th>\n",
       "      <th>reg_day</th>\n",
       "      <th>exp_year</th>\n",
       "      <th>exp_month</th>\n",
       "      <th>exp_day</th>\n",
       "    </tr>\n",
       "  </thead>\n",
       "  <tbody>\n",
       "    <tr>\n",
       "      <th>0</th>\n",
       "      <td>XQxgAYj3klVKjR3oxPPXYYFp4soD4TuBghkhMTD4oTw=</td>\n",
       "      <td>1</td>\n",
       "      <td>0</td>\n",
       "      <td></td>\n",
       "      <td>7</td>\n",
       "      <td>2011</td>\n",
       "      <td>8</td>\n",
       "      <td>20</td>\n",
       "      <td>2017</td>\n",
       "      <td>9</td>\n",
       "      <td>20</td>\n",
       "    </tr>\n",
       "    <tr>\n",
       "      <th>1</th>\n",
       "      <td>UizsfmJb9mV54qE9hCYyU07Va97c0lCRLEQX3ae+ztM=</td>\n",
       "      <td>1</td>\n",
       "      <td>0</td>\n",
       "      <td></td>\n",
       "      <td>7</td>\n",
       "      <td>2015</td>\n",
       "      <td>6</td>\n",
       "      <td>28</td>\n",
       "      <td>2017</td>\n",
       "      <td>6</td>\n",
       "      <td>22</td>\n",
       "    </tr>\n",
       "    <tr>\n",
       "      <th>2</th>\n",
       "      <td>D8nEhsIOBSoE6VthTaqDX8U6lqjJ7dLdr72mOyLya2A=</td>\n",
       "      <td>1</td>\n",
       "      <td>0</td>\n",
       "      <td></td>\n",
       "      <td>4</td>\n",
       "      <td>2016</td>\n",
       "      <td>4</td>\n",
       "      <td>11</td>\n",
       "      <td>2017</td>\n",
       "      <td>7</td>\n",
       "      <td>12</td>\n",
       "    </tr>\n",
       "    <tr>\n",
       "      <th>3</th>\n",
       "      <td>mCuD+tZ1hERA/o5GPqk38e041J8ZsBaLcu7nGoIIvhI=</td>\n",
       "      <td>1</td>\n",
       "      <td>0</td>\n",
       "      <td></td>\n",
       "      <td>9</td>\n",
       "      <td>2015</td>\n",
       "      <td>9</td>\n",
       "      <td>6</td>\n",
       "      <td>2015</td>\n",
       "      <td>9</td>\n",
       "      <td>7</td>\n",
       "    </tr>\n",
       "    <tr>\n",
       "      <th>4</th>\n",
       "      <td>q4HRBfVSssAFS9iRfxWrohxuk9kCYMKjHOEagUMV6rQ=</td>\n",
       "      <td>1</td>\n",
       "      <td>0</td>\n",
       "      <td></td>\n",
       "      <td>4</td>\n",
       "      <td>2017</td>\n",
       "      <td>1</td>\n",
       "      <td>26</td>\n",
       "      <td>2017</td>\n",
       "      <td>6</td>\n",
       "      <td>13</td>\n",
       "    </tr>\n",
       "  </tbody>\n",
       "</table>\n",
       "</div>"
      ],
      "text/plain": [
       "                                           msno  city  bd gender  \\\n",
       "0  XQxgAYj3klVKjR3oxPPXYYFp4soD4TuBghkhMTD4oTw=     1   0          \n",
       "1  UizsfmJb9mV54qE9hCYyU07Va97c0lCRLEQX3ae+ztM=     1   0          \n",
       "2  D8nEhsIOBSoE6VthTaqDX8U6lqjJ7dLdr72mOyLya2A=     1   0          \n",
       "3  mCuD+tZ1hERA/o5GPqk38e041J8ZsBaLcu7nGoIIvhI=     1   0          \n",
       "4  q4HRBfVSssAFS9iRfxWrohxuk9kCYMKjHOEagUMV6rQ=     1   0          \n",
       "\n",
       "   registered_via  reg_year  reg_month  reg_day  exp_year  exp_month  exp_day  \n",
       "0               7      2011          8       20      2017          9       20  \n",
       "1               7      2015          6       28      2017          6       22  \n",
       "2               4      2016          4       11      2017          7       12  \n",
       "3               9      2015          9        6      2015          9        7  \n",
       "4               4      2017          1       26      2017          6       13  "
      ]
     },
     "execution_count": 19,
     "metadata": {},
     "output_type": "execute_result"
    }
   ],
   "source": [
    "members_df.head()"
   ]
  },
  {
   "cell_type": "markdown",
   "id": "744e566d",
   "metadata": {
    "papermill": {
     "duration": 0.019104,
     "end_time": "2022-09-13T21:00:18.593671",
     "exception": false,
     "start_time": "2022-09-13T21:00:18.574567",
     "status": "completed"
    },
    "tags": []
   },
   "source": [
    "### Cleaning bd and gender"
   ]
  },
  {
   "cell_type": "code",
   "execution_count": 20,
   "id": "94c40575",
   "metadata": {
    "execution": {
     "iopub.execute_input": "2022-09-13T21:00:18.635233Z",
     "iopub.status.busy": "2022-09-13T21:00:18.634382Z",
     "iopub.status.idle": "2022-09-13T21:00:18.657805Z",
     "shell.execute_reply": "2022-09-13T21:00:18.656483Z"
    },
    "papermill": {
     "duration": 0.047356,
     "end_time": "2022-09-13T21:00:18.660790",
     "exception": false,
     "start_time": "2022-09-13T21:00:18.613434",
     "status": "completed"
    },
    "tags": []
   },
   "outputs": [],
   "source": [
    "members_df['bd'] = members_df['bd'].apply(lambda x : 0 if x > 100 else abs(x) )"
   ]
  },
  {
   "cell_type": "code",
   "execution_count": 21,
   "id": "fc9071c8",
   "metadata": {
    "execution": {
     "iopub.execute_input": "2022-09-13T21:00:18.702171Z",
     "iopub.status.busy": "2022-09-13T21:00:18.701317Z",
     "iopub.status.idle": "2022-09-13T21:00:18.708331Z",
     "shell.execute_reply": "2022-09-13T21:00:18.707476Z"
    },
    "papermill": {
     "duration": 0.030357,
     "end_time": "2022-09-13T21:00:18.710956",
     "exception": false,
     "start_time": "2022-09-13T21:00:18.680599",
     "status": "completed"
    },
    "tags": []
   },
   "outputs": [],
   "source": [
    "members_df['gender'] = members_df['gender'].astype(\"category\").cat.codes"
   ]
  },
  {
   "cell_type": "code",
   "execution_count": 22,
   "id": "2678a3dc",
   "metadata": {
    "execution": {
     "iopub.execute_input": "2022-09-13T21:00:18.751656Z",
     "iopub.status.busy": "2022-09-13T21:00:18.750842Z",
     "iopub.status.idle": "2022-09-13T21:00:18.767179Z",
     "shell.execute_reply": "2022-09-13T21:00:18.766141Z"
    },
    "papermill": {
     "duration": 0.040041,
     "end_time": "2022-09-13T21:00:18.770002",
     "exception": false,
     "start_time": "2022-09-13T21:00:18.729961",
     "status": "completed"
    },
    "tags": []
   },
   "outputs": [],
   "source": [
    "train_age = members_df[members_df['bd'] != 0].copy() \n",
    "y_train_age  = train_age['bd']\n",
    "train_age.drop(['msno' ,'bd','gender'],axis = 1 , inplace = True )\n",
    "test_age =  members_df[members_df['bd'] == 0].copy() \n",
    "y_test_age  = test_age['bd']\n",
    "test_age.drop(['msno' ,'bd','gender'],axis = 1 , inplace = True )"
   ]
  },
  {
   "cell_type": "code",
   "execution_count": 23,
   "id": "4fd3ffd1",
   "metadata": {
    "execution": {
     "iopub.execute_input": "2022-09-13T21:00:18.811172Z",
     "iopub.status.busy": "2022-09-13T21:00:18.810308Z",
     "iopub.status.idle": "2022-09-13T21:00:18.823875Z",
     "shell.execute_reply": "2022-09-13T21:00:18.822467Z"
    },
    "papermill": {
     "duration": 0.037042,
     "end_time": "2022-09-13T21:00:18.826458",
     "exception": false,
     "start_time": "2022-09-13T21:00:18.789416",
     "status": "completed"
    },
    "tags": []
   },
   "outputs": [
    {
     "data": {
      "text/html": [
       "<div>\n",
       "<style scoped>\n",
       "    .dataframe tbody tr th:only-of-type {\n",
       "        vertical-align: middle;\n",
       "    }\n",
       "\n",
       "    .dataframe tbody tr th {\n",
       "        vertical-align: top;\n",
       "    }\n",
       "\n",
       "    .dataframe thead th {\n",
       "        text-align: right;\n",
       "    }\n",
       "</style>\n",
       "<table border=\"1\" class=\"dataframe\">\n",
       "  <thead>\n",
       "    <tr style=\"text-align: right;\">\n",
       "      <th></th>\n",
       "      <th>city</th>\n",
       "      <th>registered_via</th>\n",
       "      <th>reg_year</th>\n",
       "      <th>reg_month</th>\n",
       "      <th>reg_day</th>\n",
       "      <th>exp_year</th>\n",
       "      <th>exp_month</th>\n",
       "      <th>exp_day</th>\n",
       "    </tr>\n",
       "  </thead>\n",
       "  <tbody>\n",
       "    <tr>\n",
       "      <th>5</th>\n",
       "      <td>13</td>\n",
       "      <td>9</td>\n",
       "      <td>2012</td>\n",
       "      <td>7</td>\n",
       "      <td>3</td>\n",
       "      <td>2017</td>\n",
       "      <td>10</td>\n",
       "      <td>6</td>\n",
       "    </tr>\n",
       "    <tr>\n",
       "      <th>10</th>\n",
       "      <td>12</td>\n",
       "      <td>9</td>\n",
       "      <td>2006</td>\n",
       "      <td>5</td>\n",
       "      <td>31</td>\n",
       "      <td>2017</td>\n",
       "      <td>8</td>\n",
       "      <td>16</td>\n",
       "    </tr>\n",
       "    <tr>\n",
       "      <th>13</th>\n",
       "      <td>15</td>\n",
       "      <td>3</td>\n",
       "      <td>2015</td>\n",
       "      <td>9</td>\n",
       "      <td>15</td>\n",
       "      <td>2017</td>\n",
       "      <td>10</td>\n",
       "      <td>19</td>\n",
       "    </tr>\n",
       "    <tr>\n",
       "      <th>15</th>\n",
       "      <td>13</td>\n",
       "      <td>3</td>\n",
       "      <td>2014</td>\n",
       "      <td>4</td>\n",
       "      <td>10</td>\n",
       "      <td>2017</td>\n",
       "      <td>4</td>\n",
       "      <td>27</td>\n",
       "    </tr>\n",
       "    <tr>\n",
       "      <th>16</th>\n",
       "      <td>13</td>\n",
       "      <td>9</td>\n",
       "      <td>2007</td>\n",
       "      <td>3</td>\n",
       "      <td>30</td>\n",
       "      <td>2017</td>\n",
       "      <td>6</td>\n",
       "      <td>12</td>\n",
       "    </tr>\n",
       "  </tbody>\n",
       "</table>\n",
       "</div>"
      ],
      "text/plain": [
       "    city  registered_via  reg_year  reg_month  reg_day  exp_year  exp_month  \\\n",
       "5     13               9      2012          7        3      2017         10   \n",
       "10    12               9      2006          5       31      2017          8   \n",
       "13    15               3      2015          9       15      2017         10   \n",
       "15    13               3      2014          4       10      2017          4   \n",
       "16    13               9      2007          3       30      2017          6   \n",
       "\n",
       "    exp_day  \n",
       "5         6  \n",
       "10       16  \n",
       "13       19  \n",
       "15       27  \n",
       "16       12  "
      ]
     },
     "execution_count": 23,
     "metadata": {},
     "output_type": "execute_result"
    }
   ],
   "source": [
    "train_age.head()"
   ]
  },
  {
   "cell_type": "markdown",
   "id": "cb8a852f",
   "metadata": {
    "papermill": {
     "duration": 0.019227,
     "end_time": "2022-09-13T21:00:18.865521",
     "exception": false,
     "start_time": "2022-09-13T21:00:18.846294",
     "status": "completed"
    },
    "tags": []
   },
   "source": [
    "# classifying age and gender since values of 0 are a lot"
   ]
  },
  {
   "cell_type": "code",
   "execution_count": 24,
   "id": "7f891aae",
   "metadata": {
    "execution": {
     "iopub.execute_input": "2022-09-13T21:00:18.906980Z",
     "iopub.status.busy": "2022-09-13T21:00:18.906121Z",
     "iopub.status.idle": "2022-09-13T21:00:21.638264Z",
     "shell.execute_reply": "2022-09-13T21:00:21.636705Z"
    },
    "papermill": {
     "duration": 2.756085,
     "end_time": "2022-09-13T21:00:21.641019",
     "exception": false,
     "start_time": "2022-09-13T21:00:18.884934",
     "status": "completed"
    },
    "tags": []
   },
   "outputs": [],
   "source": [
    "from lightgbm import LGBMClassifier , LGBMRegressor\n",
    "from catboost import CatBoostClassifier ,CatBoostRegressor\n",
    "\n",
    "from sklearn.model_selection import GridSearchCV , cross_val_score\n",
    "from sklearn.metrics import mean_absolute_error as MAE\n",
    "from sklearn.metrics import mean_squared_error as MSE"
   ]
  },
  {
   "cell_type": "code",
   "execution_count": 25,
   "id": "cfcc8c60",
   "metadata": {
    "execution": {
     "iopub.execute_input": "2022-09-13T21:00:21.684500Z",
     "iopub.status.busy": "2022-09-13T21:00:21.682769Z",
     "iopub.status.idle": "2022-09-13T21:00:30.701811Z",
     "shell.execute_reply": "2022-09-13T21:00:30.700189Z"
    },
    "papermill": {
     "duration": 9.044052,
     "end_time": "2022-09-13T21:00:30.704706",
     "exception": false,
     "start_time": "2022-09-13T21:00:21.660654",
     "status": "completed"
    },
    "tags": []
   },
   "outputs": [
    {
     "data": {
      "text/plain": [
       "8.873272710866614"
      ]
     },
     "execution_count": 25,
     "metadata": {},
     "output_type": "execute_result"
    }
   ],
   "source": [
    "model = CatBoostRegressor(verbose = 0)\n",
    "model.fit(train_age.values, y_train_age.values.ravel())\n",
    "cv_score = np.sqrt(- cross_val_score(model, train_age.values,y_train_age.values.ravel(), cv=3 ,scoring='neg_mean_squared_error').mean())\n",
    "cv_score"
   ]
  },
  {
   "cell_type": "code",
   "execution_count": 26,
   "id": "8484466a",
   "metadata": {
    "execution": {
     "iopub.execute_input": "2022-09-13T21:00:30.746911Z",
     "iopub.status.busy": "2022-09-13T21:00:30.745534Z",
     "iopub.status.idle": "2022-09-13T21:00:30.774111Z",
     "shell.execute_reply": "2022-09-13T21:00:30.772736Z"
    },
    "papermill": {
     "duration": 0.053164,
     "end_time": "2022-09-13T21:00:30.777582",
     "exception": false,
     "start_time": "2022-09-13T21:00:30.724418",
     "status": "completed"
    },
    "tags": []
   },
   "outputs": [
    {
     "data": {
      "text/plain": [
       "array([38., 25., 24., ..., 28., 28., 27.])"
      ]
     },
     "execution_count": 26,
     "metadata": {},
     "output_type": "execute_result"
    }
   ],
   "source": [
    "preds_age = model.predict(test_age.values)\n",
    "preds_age = preds_age.round()\n",
    "preds_age"
   ]
  },
  {
   "cell_type": "code",
   "execution_count": 27,
   "id": "f224a997",
   "metadata": {
    "execution": {
     "iopub.execute_input": "2022-09-13T21:00:30.818575Z",
     "iopub.status.busy": "2022-09-13T21:00:30.818100Z",
     "iopub.status.idle": "2022-09-13T21:00:30.829025Z",
     "shell.execute_reply": "2022-09-13T21:00:30.827792Z"
    },
    "papermill": {
     "duration": 0.034377,
     "end_time": "2022-09-13T21:00:30.831460",
     "exception": false,
     "start_time": "2022-09-13T21:00:30.797083",
     "status": "completed"
    },
    "tags": []
   },
   "outputs": [
    {
     "data": {
      "text/plain": [
       "0     19954\n",
       "22      751\n",
       "27      750\n",
       "24      740\n",
       "26      719\n",
       "      ...  \n",
       "90        1\n",
       "2         1\n",
       "70        1\n",
       "3         1\n",
       "10        1\n",
       "Name: bd, Length: 80, dtype: int64"
      ]
     },
     "execution_count": 27,
     "metadata": {},
     "output_type": "execute_result"
    }
   ],
   "source": [
    "members_df['bd'].value_counts()"
   ]
  },
  {
   "cell_type": "code",
   "execution_count": 28,
   "id": "8dd04d6e",
   "metadata": {
    "execution": {
     "iopub.execute_input": "2022-09-13T21:00:30.872801Z",
     "iopub.status.busy": "2022-09-13T21:00:30.872013Z",
     "iopub.status.idle": "2022-09-13T21:00:31.255789Z",
     "shell.execute_reply": "2022-09-13T21:00:31.254285Z"
    },
    "papermill": {
     "duration": 0.407799,
     "end_time": "2022-09-13T21:00:31.258854",
     "exception": false,
     "start_time": "2022-09-13T21:00:30.851055",
     "status": "completed"
    },
    "tags": []
   },
   "outputs": [
    {
     "data": {
      "image/png": "[encoded data removed]",
      "text/plain": [
       "<Figure size 432x288 with 1 Axes>"
      ]
     },
     "metadata": {
      "needs_background": "light"
     },
     "output_type": "display_data"
    }
   ],
   "source": [
    "import matplotlib.pyplot as plt\n",
    "import seaborn as sns\n",
    "sns.histplot(x='bd' , data = members_df, bins = 10)\n",
    "plt.show()"
   ]
  },
  {
   "cell_type": "code",
   "execution_count": 29,
   "id": "ecc64f67",
   "metadata": {
    "execution": {
     "iopub.execute_input": "2022-09-13T21:00:31.306178Z",
     "iopub.status.busy": "2022-09-13T21:00:31.305725Z",
     "iopub.status.idle": "2022-09-13T21:00:37.262285Z",
     "shell.execute_reply": "2022-09-13T21:00:37.261049Z"
    },
    "papermill": {
     "duration": 5.983392,
     "end_time": "2022-09-13T21:00:37.265319",
     "exception": false,
     "start_time": "2022-09-13T21:00:31.281927",
     "status": "completed"
    },
    "tags": []
   },
   "outputs": [],
   "source": [
    "age_nulls_indexes = members_df[members_df['bd'] == 0].index\n",
    "j = 0\n",
    "for i in age_nulls_indexes : \n",
    "    members_df.loc[i , 'bd'] = preds_age[j]\n",
    "    j += 1"
   ]
  },
  {
   "cell_type": "code",
   "execution_count": 30,
   "id": "c79aa86d",
   "metadata": {
    "execution": {
     "iopub.execute_input": "2022-09-13T21:00:37.308451Z",
     "iopub.status.busy": "2022-09-13T21:00:37.307617Z",
     "iopub.status.idle": "2022-09-13T21:00:37.319564Z",
     "shell.execute_reply": "2022-09-13T21:00:37.317723Z"
    },
    "papermill": {
     "duration": 0.037124,
     "end_time": "2022-09-13T21:00:37.322411",
     "exception": false,
     "start_time": "2022-09-13T21:00:37.285287",
     "status": "completed"
    },
    "tags": []
   },
   "outputs": [
    {
     "data": {
      "text/plain": [
       "26    3537\n",
       "27    3410\n",
       "28    2884\n",
       "25    2813\n",
       "29    2671\n",
       "      ... \n",
       "90       1\n",
       "76       1\n",
       "2        1\n",
       "97       1\n",
       "10       1\n",
       "Name: bd, Length: 79, dtype: int64"
      ]
     },
     "execution_count": 30,
     "metadata": {},
     "output_type": "execute_result"
    }
   ],
   "source": [
    "members_df['bd'].value_counts()"
   ]
  },
  {
   "cell_type": "code",
   "execution_count": 31,
   "id": "e820cbde",
   "metadata": {
    "execution": {
     "iopub.execute_input": "2022-09-13T21:00:37.366851Z",
     "iopub.status.busy": "2022-09-13T21:00:37.365801Z",
     "iopub.status.idle": "2022-09-13T21:00:37.592696Z",
     "shell.execute_reply": "2022-09-13T21:00:37.591427Z"
    },
    "papermill": {
     "duration": 0.251839,
     "end_time": "2022-09-13T21:00:37.595327",
     "exception": false,
     "start_time": "2022-09-13T21:00:37.343488",
     "status": "completed"
    },
    "tags": []
   },
   "outputs": [
    {
     "data": {
      "image/png": "[encoded data removed]",
      "text/plain": [
       "<Figure size 432x288 with 1 Axes>"
      ]
     },
     "metadata": {
      "needs_background": "light"
     },
     "output_type": "display_data"
    }
   ],
   "source": [
    "sns.histplot(x='bd' , data = members_df, bins = 10)\n",
    "plt.show()"
   ]
  },
  {
   "cell_type": "code",
   "execution_count": 32,
   "id": "af7d5fda",
   "metadata": {
    "execution": {
     "iopub.execute_input": "2022-09-13T21:00:37.639150Z",
     "iopub.status.busy": "2022-09-13T21:00:37.638229Z",
     "iopub.status.idle": "2022-09-13T21:00:37.652520Z",
     "shell.execute_reply": "2022-09-13T21:00:37.651566Z"
    },
    "papermill": {
     "duration": 0.03948,
     "end_time": "2022-09-13T21:00:37.655246",
     "exception": false,
     "start_time": "2022-09-13T21:00:37.615766",
     "status": "completed"
    },
    "tags": []
   },
   "outputs": [],
   "source": [
    "train_gender =  members_df[members_df['gender'] != 0].copy() \n",
    "y_train_gender  = train_gender['gender']\n",
    "train_gender.drop(['msno','gender'],axis = 1 , inplace = True )\n",
    "test_gender =  members_df[members_df['gender'] == 0].copy() \n",
    "y_test_gender  = test_gender['gender']\n",
    "test_gender.drop(['msno' ,'gender'],axis = 1 , inplace = True )"
   ]
  },
  {
   "cell_type": "code",
   "execution_count": 33,
   "id": "d4a30587",
   "metadata": {
    "execution": {
     "iopub.execute_input": "2022-09-13T21:00:37.699009Z",
     "iopub.status.busy": "2022-09-13T21:00:37.698073Z",
     "iopub.status.idle": "2022-09-13T21:00:52.398122Z",
     "shell.execute_reply": "2022-09-13T21:00:52.396966Z"
    },
    "papermill": {
     "duration": 14.725095,
     "end_time": "2022-09-13T21:00:52.400779",
     "exception": false,
     "start_time": "2022-09-13T21:00:37.675684",
     "status": "completed"
    },
    "tags": []
   },
   "outputs": [
    {
     "data": {
      "text/plain": [
       "0.5258948136836681"
      ]
     },
     "execution_count": 33,
     "metadata": {},
     "output_type": "execute_result"
    }
   ],
   "source": [
    "model = CatBoostClassifier(verbose = 0 )\n",
    "model.fit(train_gender.values, y_train_gender.values.ravel())\n",
    "cv_score = cross_val_score(model, train_gender.values,y_train_gender.values.ravel(), cv=3 ,scoring='accuracy').mean()\n",
    "cv_score"
   ]
  },
  {
   "cell_type": "code",
   "execution_count": 34,
   "id": "00fd1bb8",
   "metadata": {
    "execution": {
     "iopub.execute_input": "2022-09-13T21:00:52.444753Z",
     "iopub.status.busy": "2022-09-13T21:00:52.443972Z",
     "iopub.status.idle": "2022-09-13T21:00:52.468120Z",
     "shell.execute_reply": "2022-09-13T21:00:52.466461Z"
    },
    "papermill": {
     "duration": 0.049609,
     "end_time": "2022-09-13T21:00:52.471270",
     "exception": false,
     "start_time": "2022-09-13T21:00:52.421661",
     "status": "completed"
    },
    "tags": []
   },
   "outputs": [],
   "source": [
    "predictions = model.predict(test_gender.values)"
   ]
  },
  {
   "cell_type": "code",
   "execution_count": 35,
   "id": "8868ea33",
   "metadata": {
    "execution": {
     "iopub.execute_input": "2022-09-13T21:00:52.516183Z",
     "iopub.status.busy": "2022-09-13T21:00:52.515335Z",
     "iopub.status.idle": "2022-09-13T21:00:52.525260Z",
     "shell.execute_reply": "2022-09-13T21:00:52.523858Z"
    },
    "papermill": {
     "duration": 0.035451,
     "end_time": "2022-09-13T21:00:52.527870",
     "exception": false,
     "start_time": "2022-09-13T21:00:52.492419",
     "status": "completed"
    },
    "tags": []
   },
   "outputs": [
    {
     "data": {
      "text/plain": [
       "0    19902\n",
       "2     7405\n",
       "1     7096\n",
       "Name: gender, dtype: int64"
      ]
     },
     "execution_count": 35,
     "metadata": {},
     "output_type": "execute_result"
    }
   ],
   "source": [
    "members_df['gender'].value_counts()"
   ]
  },
  {
   "cell_type": "code",
   "execution_count": 36,
   "id": "9a9bad67",
   "metadata": {
    "execution": {
     "iopub.execute_input": "2022-09-13T21:00:52.570473Z",
     "iopub.status.busy": "2022-09-13T21:00:52.570012Z",
     "iopub.status.idle": "2022-09-13T21:00:58.407974Z",
     "shell.execute_reply": "2022-09-13T21:00:58.406704Z"
    },
    "papermill": {
     "duration": 5.862715,
     "end_time": "2022-09-13T21:00:58.410998",
     "exception": false,
     "start_time": "2022-09-13T21:00:52.548283",
     "status": "completed"
    },
    "tags": []
   },
   "outputs": [],
   "source": [
    "gender_nulls_indexes = members_df[members_df['gender'] == 0].index\n",
    "j = 0\n",
    "for i in gender_nulls_indexes : \n",
    "    members_df.loc[i , 'gender'] = predictions[j]\n",
    "    j += 1"
   ]
  },
  {
   "cell_type": "code",
   "execution_count": 37,
   "id": "4d15dcf1",
   "metadata": {
    "execution": {
     "iopub.execute_input": "2022-09-13T21:00:58.453395Z",
     "iopub.status.busy": "2022-09-13T21:00:58.452965Z",
     "iopub.status.idle": "2022-09-13T21:00:58.462088Z",
     "shell.execute_reply": "2022-09-13T21:00:58.460943Z"
    },
    "papermill": {
     "duration": 0.03302,
     "end_time": "2022-09-13T21:00:58.464517",
     "exception": false,
     "start_time": "2022-09-13T21:00:58.431497",
     "status": "completed"
    },
    "tags": []
   },
   "outputs": [
    {
     "data": {
      "text/plain": [
       "1    17802\n",
       "2    16601\n",
       "Name: gender, dtype: int64"
      ]
     },
     "execution_count": 37,
     "metadata": {},
     "output_type": "execute_result"
    }
   ],
   "source": [
    "members_df['gender'].value_counts()"
   ]
  },
  {
   "cell_type": "code",
   "execution_count": 38,
   "id": "b409c2aa",
   "metadata": {
    "execution": {
     "iopub.execute_input": "2022-09-13T21:00:58.507754Z",
     "iopub.status.busy": "2022-09-13T21:00:58.506917Z",
     "iopub.status.idle": "2022-09-13T21:00:58.521604Z",
     "shell.execute_reply": "2022-09-13T21:00:58.520279Z"
    },
    "papermill": {
     "duration": 0.039277,
     "end_time": "2022-09-13T21:00:58.524237",
     "exception": false,
     "start_time": "2022-09-13T21:00:58.484960",
     "status": "completed"
    },
    "tags": []
   },
   "outputs": [
    {
     "data": {
      "text/html": [
       "<div>\n",
       "<style scoped>\n",
       "    .dataframe tbody tr th:only-of-type {\n",
       "        vertical-align: middle;\n",
       "    }\n",
       "\n",
       "    .dataframe tbody tr th {\n",
       "        vertical-align: top;\n",
       "    }\n",
       "\n",
       "    .dataframe thead th {\n",
       "        text-align: right;\n",
       "    }\n",
       "</style>\n",
       "<table border=\"1\" class=\"dataframe\">\n",
       "  <thead>\n",
       "    <tr style=\"text-align: right;\">\n",
       "      <th></th>\n",
       "      <th>msno</th>\n",
       "      <th>city</th>\n",
       "      <th>bd</th>\n",
       "      <th>gender</th>\n",
       "      <th>registered_via</th>\n",
       "      <th>reg_year</th>\n",
       "      <th>reg_month</th>\n",
       "      <th>reg_day</th>\n",
       "      <th>exp_year</th>\n",
       "      <th>exp_month</th>\n",
       "      <th>exp_day</th>\n",
       "    </tr>\n",
       "  </thead>\n",
       "  <tbody>\n",
       "    <tr>\n",
       "      <th>0</th>\n",
       "      <td>XQxgAYj3klVKjR3oxPPXYYFp4soD4TuBghkhMTD4oTw=</td>\n",
       "      <td>1</td>\n",
       "      <td>38</td>\n",
       "      <td>1</td>\n",
       "      <td>7</td>\n",
       "      <td>2011</td>\n",
       "      <td>8</td>\n",
       "      <td>20</td>\n",
       "      <td>2017</td>\n",
       "      <td>9</td>\n",
       "      <td>20</td>\n",
       "    </tr>\n",
       "    <tr>\n",
       "      <th>1</th>\n",
       "      <td>UizsfmJb9mV54qE9hCYyU07Va97c0lCRLEQX3ae+ztM=</td>\n",
       "      <td>1</td>\n",
       "      <td>25</td>\n",
       "      <td>1</td>\n",
       "      <td>7</td>\n",
       "      <td>2015</td>\n",
       "      <td>6</td>\n",
       "      <td>28</td>\n",
       "      <td>2017</td>\n",
       "      <td>6</td>\n",
       "      <td>22</td>\n",
       "    </tr>\n",
       "    <tr>\n",
       "      <th>2</th>\n",
       "      <td>D8nEhsIOBSoE6VthTaqDX8U6lqjJ7dLdr72mOyLya2A=</td>\n",
       "      <td>1</td>\n",
       "      <td>24</td>\n",
       "      <td>1</td>\n",
       "      <td>4</td>\n",
       "      <td>2016</td>\n",
       "      <td>4</td>\n",
       "      <td>11</td>\n",
       "      <td>2017</td>\n",
       "      <td>7</td>\n",
       "      <td>12</td>\n",
       "    </tr>\n",
       "    <tr>\n",
       "      <th>3</th>\n",
       "      <td>mCuD+tZ1hERA/o5GPqk38e041J8ZsBaLcu7nGoIIvhI=</td>\n",
       "      <td>1</td>\n",
       "      <td>33</td>\n",
       "      <td>1</td>\n",
       "      <td>9</td>\n",
       "      <td>2015</td>\n",
       "      <td>9</td>\n",
       "      <td>6</td>\n",
       "      <td>2015</td>\n",
       "      <td>9</td>\n",
       "      <td>7</td>\n",
       "    </tr>\n",
       "    <tr>\n",
       "      <th>4</th>\n",
       "      <td>q4HRBfVSssAFS9iRfxWrohxuk9kCYMKjHOEagUMV6rQ=</td>\n",
       "      <td>1</td>\n",
       "      <td>25</td>\n",
       "      <td>1</td>\n",
       "      <td>4</td>\n",
       "      <td>2017</td>\n",
       "      <td>1</td>\n",
       "      <td>26</td>\n",
       "      <td>2017</td>\n",
       "      <td>6</td>\n",
       "      <td>13</td>\n",
       "    </tr>\n",
       "  </tbody>\n",
       "</table>\n",
       "</div>"
      ],
      "text/plain": [
       "                                           msno  city  bd  gender  \\\n",
       "0  XQxgAYj3klVKjR3oxPPXYYFp4soD4TuBghkhMTD4oTw=     1  38       1   \n",
       "1  UizsfmJb9mV54qE9hCYyU07Va97c0lCRLEQX3ae+ztM=     1  25       1   \n",
       "2  D8nEhsIOBSoE6VthTaqDX8U6lqjJ7dLdr72mOyLya2A=     1  24       1   \n",
       "3  mCuD+tZ1hERA/o5GPqk38e041J8ZsBaLcu7nGoIIvhI=     1  33       1   \n",
       "4  q4HRBfVSssAFS9iRfxWrohxuk9kCYMKjHOEagUMV6rQ=     1  25       1   \n",
       "\n",
       "   registered_via  reg_year  reg_month  reg_day  exp_year  exp_month  exp_day  \n",
       "0               7      2011          8       20      2017          9       20  \n",
       "1               7      2015          6       28      2017          6       22  \n",
       "2               4      2016          4       11      2017          7       12  \n",
       "3               9      2015          9        6      2015          9        7  \n",
       "4               4      2017          1       26      2017          6       13  "
      ]
     },
     "execution_count": 38,
     "metadata": {},
     "output_type": "execute_result"
    }
   ],
   "source": [
    "members_df.head()"
   ]
  },
  {
   "cell_type": "markdown",
   "id": "5223e4fd",
   "metadata": {
    "papermill": {
     "duration": 0.019995,
     "end_time": "2022-09-13T21:00:58.565052",
     "exception": false,
     "start_time": "2022-09-13T21:00:58.545057",
     "status": "completed"
    },
    "tags": []
   },
   "source": [
    "# Merging the train and test dataframes for preprocessing"
   ]
  },
  {
   "cell_type": "code",
   "execution_count": 39,
   "id": "5a09334e",
   "metadata": {
    "execution": {
     "iopub.execute_input": "2022-09-13T21:00:58.608496Z",
     "iopub.status.busy": "2022-09-13T21:00:58.607239Z",
     "iopub.status.idle": "2022-09-13T21:01:02.870263Z",
     "shell.execute_reply": "2022-09-13T21:01:02.868726Z"
    },
    "papermill": {
     "duration": 4.288006,
     "end_time": "2022-09-13T21:01:02.873470",
     "exception": false,
     "start_time": "2022-09-13T21:00:58.585464",
     "status": "completed"
    },
    "tags": []
   },
   "outputs": [
    {
     "name": "stdout",
     "output_type": "stream",
     "text": [
      "all_data size is : (9934208, 6)\n"
     ]
    }
   ],
   "source": [
    "ntrain = train_df.shape[0]\n",
    "ntest = test_df.shape[0]\n",
    "y_train = train_df['target'].values\n",
    "test_IDs = test_df['msno'].copy()\n",
    "all_data = pd.concat((train_df.drop('target',axis =1), test_df)).reset_index(drop=True)\n",
    "print(\"all_data size is : {}\".format(all_data.shape))"
   ]
  },
  {
   "cell_type": "code",
   "execution_count": 40,
   "id": "65634525",
   "metadata": {
    "execution": {
     "iopub.execute_input": "2022-09-13T21:01:02.918424Z",
     "iopub.status.busy": "2022-09-13T21:01:02.917589Z",
     "iopub.status.idle": "2022-09-13T21:01:03.604342Z",
     "shell.execute_reply": "2022-09-13T21:01:03.603112Z"
    },
    "papermill": {
     "duration": 0.71236,
     "end_time": "2022-09-13T21:01:03.607327",
     "exception": false,
     "start_time": "2022-09-13T21:01:02.894967",
     "status": "completed"
    },
    "tags": []
   },
   "outputs": [],
   "source": [
    "all_data.drop('id', axis =1 , inplace = True)"
   ]
  },
  {
   "cell_type": "code",
   "execution_count": 41,
   "id": "54e7d5f0",
   "metadata": {
    "execution": {
     "iopub.execute_input": "2022-09-13T21:01:03.653254Z",
     "iopub.status.busy": "2022-09-13T21:01:03.652806Z",
     "iopub.status.idle": "2022-09-13T21:01:27.735738Z",
     "shell.execute_reply": "2022-09-13T21:01:27.734377Z"
    },
    "papermill": {
     "duration": 24.109779,
     "end_time": "2022-09-13T21:01:27.739011",
     "exception": false,
     "start_time": "2022-09-13T21:01:03.629232",
     "status": "completed"
    },
    "tags": []
   },
   "outputs": [],
   "source": [
    "all_data = all_data.merge(members_df, on='msno', how='left')\n",
    "\n",
    "all_data = all_data.merge(songs_df, on = 'song_id', how = 'left')"
   ]
  },
  {
   "cell_type": "code",
   "execution_count": 42,
   "id": "3499b9bb",
   "metadata": {
    "execution": {
     "iopub.execute_input": "2022-09-13T21:01:27.783078Z",
     "iopub.status.busy": "2022-09-13T21:01:27.782644Z",
     "iopub.status.idle": "2022-09-13T21:01:28.044956Z",
     "shell.execute_reply": "2022-09-13T21:01:28.043481Z"
    },
    "papermill": {
     "duration": 0.287741,
     "end_time": "2022-09-13T21:01:28.048076",
     "exception": false,
     "start_time": "2022-09-13T21:01:27.760335",
     "status": "completed"
    },
    "tags": []
   },
   "outputs": [
    {
     "data": {
      "text/plain": [
       "7124"
      ]
     },
     "execution_count": 42,
     "metadata": {},
     "output_type": "execute_result"
    }
   ],
   "source": [
    "del [[members_df,songs_df]]\n",
    "import gc\n",
    "gc.collect()"
   ]
  },
  {
   "cell_type": "code",
   "execution_count": 43,
   "id": "f1224a4b",
   "metadata": {
    "execution": {
     "iopub.execute_input": "2022-09-13T21:01:28.092302Z",
     "iopub.status.busy": "2022-09-13T21:01:28.091232Z",
     "iopub.status.idle": "2022-09-13T21:01:33.083336Z",
     "shell.execute_reply": "2022-09-13T21:01:33.082046Z"
    },
    "papermill": {
     "duration": 5.017199,
     "end_time": "2022-09-13T21:01:33.086182",
     "exception": false,
     "start_time": "2022-09-13T21:01:28.068983",
     "status": "completed"
    },
    "tags": []
   },
   "outputs": [],
   "source": [
    "for i in range(0,8):\n",
    "    all_data[i] = all_data[i].fillna(0)"
   ]
  },
  {
   "cell_type": "code",
   "execution_count": 44,
   "id": "0d7193e2",
   "metadata": {
    "execution": {
     "iopub.execute_input": "2022-09-13T21:01:33.130656Z",
     "iopub.status.busy": "2022-09-13T21:01:33.130221Z",
     "iopub.status.idle": "2022-09-13T21:01:33.574951Z",
     "shell.execute_reply": "2022-09-13T21:01:33.573619Z"
    },
    "papermill": {
     "duration": 0.470383,
     "end_time": "2022-09-13T21:01:33.578040",
     "exception": false,
     "start_time": "2022-09-13T21:01:33.107657",
     "status": "completed"
    },
    "tags": []
   },
   "outputs": [
    {
     "data": {
      "text/plain": [
       "465     5062629\n",
       "458     1651779\n",
       "921      610930\n",
       "1609     450948\n",
       "444      378968\n",
       "         ...   \n",
       "87            1\n",
       "2015          1\n",
       "1579          1\n",
       "751           1\n",
       "303           1\n",
       "Name: 0, Length: 166, dtype: int64"
      ]
     },
     "execution_count": 44,
     "metadata": {},
     "output_type": "execute_result"
    }
   ],
   "source": [
    "all_data[0].value_counts()"
   ]
  },
  {
   "cell_type": "code",
   "execution_count": 45,
   "id": "bfbd105e",
   "metadata": {
    "execution": {
     "iopub.execute_input": "2022-09-13T21:01:33.623294Z",
     "iopub.status.busy": "2022-09-13T21:01:33.622901Z",
     "iopub.status.idle": "2022-09-13T21:01:42.144693Z",
     "shell.execute_reply": "2022-09-13T21:01:42.143324Z"
    },
    "papermill": {
     "duration": 8.547518,
     "end_time": "2022-09-13T21:01:42.147687",
     "exception": false,
     "start_time": "2022-09-13T21:01:33.600169",
     "status": "completed"
    },
    "tags": []
   },
   "outputs": [],
   "source": [
    "for i in range(0,8):\n",
    "    all_data[i] = all_data[i].astype('category').cat.codes"
   ]
  },
  {
   "cell_type": "code",
   "execution_count": 46,
   "id": "577e4407",
   "metadata": {
    "execution": {
     "iopub.execute_input": "2022-09-13T21:01:42.192527Z",
     "iopub.status.busy": "2022-09-13T21:01:42.192038Z",
     "iopub.status.idle": "2022-09-13T21:01:42.263750Z",
     "shell.execute_reply": "2022-09-13T21:01:42.262737Z"
    },
    "papermill": {
     "duration": 0.096855,
     "end_time": "2022-09-13T21:01:42.266461",
     "exception": false,
     "start_time": "2022-09-13T21:01:42.169606",
     "status": "completed"
    },
    "tags": []
   },
   "outputs": [
    {
     "data": {
      "text/plain": [
       "119    5062629\n",
       "118    1651779\n",
       "155     610930\n",
       "47      450948\n",
       "116     378968\n",
       "        ...   \n",
       "149          1\n",
       "65           1\n",
       "44           1\n",
       "138          1\n",
       "102          1\n",
       "Name: 0, Length: 166, dtype: int64"
      ]
     },
     "execution_count": 46,
     "metadata": {},
     "output_type": "execute_result"
    }
   ],
   "source": [
    "all_data[0].value_counts()"
   ]
  },
  {
   "cell_type": "code",
   "execution_count": 47,
   "id": "36eb13eb",
   "metadata": {
    "execution": {
     "iopub.execute_input": "2022-09-13T21:01:42.310892Z",
     "iopub.status.busy": "2022-09-13T21:01:42.310491Z",
     "iopub.status.idle": "2022-09-13T21:01:44.483987Z",
     "shell.execute_reply": "2022-09-13T21:01:44.482738Z"
    },
    "papermill": {
     "duration": 2.198621,
     "end_time": "2022-09-13T21:01:44.486494",
     "exception": false,
     "start_time": "2022-09-13T21:01:42.287873",
     "status": "completed"
    },
    "tags": []
   },
   "outputs": [
    {
     "data": {
      "text/plain": [
       "['song_length', 'artist_name', 'composer', 'lyricist', 'language']"
      ]
     },
     "execution_count": 47,
     "metadata": {},
     "output_type": "execute_result"
    }
   ],
   "source": [
    "nulls_cols = all_data.isnull().sum()\n",
    "nulls_cols = nulls_cols[nulls_cols != 0]\n",
    "list(nulls_cols.keys())"
   ]
  },
  {
   "cell_type": "code",
   "execution_count": 48,
   "id": "e054188d",
   "metadata": {
    "execution": {
     "iopub.execute_input": "2022-09-13T21:01:44.531341Z",
     "iopub.status.busy": "2022-09-13T21:01:44.530933Z",
     "iopub.status.idle": "2022-09-13T21:01:45.866174Z",
     "shell.execute_reply": "2022-09-13T21:01:45.864681Z"
    },
    "papermill": {
     "duration": 1.361233,
     "end_time": "2022-09-13T21:01:45.868984",
     "exception": false,
     "start_time": "2022-09-13T21:01:44.507751",
     "status": "completed"
    },
    "tags": []
   },
   "outputs": [],
   "source": [
    "for col in list(nulls_cols.keys()): \n",
    "    all_data[col] = all_data[col].fillna(all_data[col].mode()[0])"
   ]
  },
  {
   "cell_type": "code",
   "execution_count": 49,
   "id": "24faf8c0",
   "metadata": {
    "execution": {
     "iopub.execute_input": "2022-09-13T21:01:45.915194Z",
     "iopub.status.busy": "2022-09-13T21:01:45.914770Z",
     "iopub.status.idle": "2022-09-13T21:01:48.079960Z",
     "shell.execute_reply": "2022-09-13T21:01:48.079045Z"
    },
    "papermill": {
     "duration": 2.191418,
     "end_time": "2022-09-13T21:01:48.082815",
     "exception": false,
     "start_time": "2022-09-13T21:01:45.891397",
     "status": "completed"
    },
    "tags": []
   },
   "outputs": [
    {
     "data": {
      "text/plain": [
       "msno                  0\n",
       "song_id               0\n",
       "source_system_tab     0\n",
       "source_screen_name    0\n",
       "source_type           0\n",
       "city                  0\n",
       "bd                    0\n",
       "gender                0\n",
       "registered_via        0\n",
       "reg_year              0\n",
       "reg_month             0\n",
       "reg_day               0\n",
       "exp_year              0\n",
       "exp_month             0\n",
       "exp_day               0\n",
       "song_length           0\n",
       "artist_name           0\n",
       "composer              0\n",
       "lyricist              0\n",
       "language              0\n",
       "0                     0\n",
       "1                     0\n",
       "2                     0\n",
       "3                     0\n",
       "4                     0\n",
       "5                     0\n",
       "6                     0\n",
       "7                     0\n",
       "dtype: int64"
      ]
     },
     "execution_count": 49,
     "metadata": {},
     "output_type": "execute_result"
    }
   ],
   "source": [
    "all_data.isnull().sum()"
   ]
  },
  {
   "cell_type": "code",
   "execution_count": 50,
   "id": "65fa05bb",
   "metadata": {
    "execution": {
     "iopub.execute_input": "2022-09-13T21:01:48.129433Z",
     "iopub.status.busy": "2022-09-13T21:01:48.128659Z",
     "iopub.status.idle": "2022-09-13T21:01:48.151801Z",
     "shell.execute_reply": "2022-09-13T21:01:48.150922Z"
    },
    "papermill": {
     "duration": 0.049505,
     "end_time": "2022-09-13T21:01:48.154166",
     "exception": false,
     "start_time": "2022-09-13T21:01:48.104661",
     "status": "completed"
    },
    "tags": []
   },
   "outputs": [
    {
     "data": {
      "text/html": [
       "<div>\n",
       "<style scoped>\n",
       "    .dataframe tbody tr th:only-of-type {\n",
       "        vertical-align: middle;\n",
       "    }\n",
       "\n",
       "    .dataframe tbody tr th {\n",
       "        vertical-align: top;\n",
       "    }\n",
       "\n",
       "    .dataframe thead th {\n",
       "        text-align: right;\n",
       "    }\n",
       "</style>\n",
       "<table border=\"1\" class=\"dataframe\">\n",
       "  <thead>\n",
       "    <tr style=\"text-align: right;\">\n",
       "      <th></th>\n",
       "      <th>msno</th>\n",
       "      <th>song_id</th>\n",
       "      <th>source_system_tab</th>\n",
       "      <th>source_screen_name</th>\n",
       "      <th>source_type</th>\n",
       "      <th>city</th>\n",
       "      <th>bd</th>\n",
       "      <th>gender</th>\n",
       "      <th>registered_via</th>\n",
       "      <th>reg_year</th>\n",
       "      <th>...</th>\n",
       "      <th>lyricist</th>\n",
       "      <th>language</th>\n",
       "      <th>0</th>\n",
       "      <th>1</th>\n",
       "      <th>2</th>\n",
       "      <th>3</th>\n",
       "      <th>4</th>\n",
       "      <th>5</th>\n",
       "      <th>6</th>\n",
       "      <th>7</th>\n",
       "    </tr>\n",
       "  </thead>\n",
       "  <tbody>\n",
       "    <tr>\n",
       "      <th>0</th>\n",
       "      <td>FGtllVqz18RPiwJj/edr2gV78zirAiY/9SmYvia+kCg=</td>\n",
       "      <td>BBzumQNXUHKdEBOB7mAJuzok+IJA1c2Ryg/yzTF6tik=</td>\n",
       "      <td>explore</td>\n",
       "      <td>Explore</td>\n",
       "      <td>online-playlist</td>\n",
       "      <td>1</td>\n",
       "      <td>30</td>\n",
       "      <td>2</td>\n",
       "      <td>7</td>\n",
       "      <td>2012</td>\n",
       "      <td>...</td>\n",
       "      <td></td>\n",
       "      <td>52.0</td>\n",
       "      <td>106</td>\n",
       "      <td>0</td>\n",
       "      <td>0</td>\n",
       "      <td>0</td>\n",
       "      <td>0</td>\n",
       "      <td>0</td>\n",
       "      <td>0</td>\n",
       "      <td>0</td>\n",
       "    </tr>\n",
       "    <tr>\n",
       "      <th>1</th>\n",
       "      <td>Xumu+NIjS6QYVxDS4/t3SawvJ7viT9hPKXmf0RtLNx8=</td>\n",
       "      <td>bhp/MpSNoqoxOIB+/l8WPqu6jldth4DIpCm3ayXnJqM=</td>\n",
       "      <td>my library</td>\n",
       "      <td>Local playlist more</td>\n",
       "      <td>local-playlist</td>\n",
       "      <td>13</td>\n",
       "      <td>24</td>\n",
       "      <td>1</td>\n",
       "      <td>9</td>\n",
       "      <td>2011</td>\n",
       "      <td>...</td>\n",
       "      <td></td>\n",
       "      <td>52.0</td>\n",
       "      <td>35</td>\n",
       "      <td>0</td>\n",
       "      <td>0</td>\n",
       "      <td>0</td>\n",
       "      <td>0</td>\n",
       "      <td>0</td>\n",
       "      <td>0</td>\n",
       "      <td>0</td>\n",
       "    </tr>\n",
       "    <tr>\n",
       "      <th>2</th>\n",
       "      <td>Xumu+NIjS6QYVxDS4/t3SawvJ7viT9hPKXmf0RtLNx8=</td>\n",
       "      <td>JNWfrrC7zNN7BdMpsISKa4Mw+xVJYNnxXh3/Epw7QgY=</td>\n",
       "      <td>my library</td>\n",
       "      <td>Local playlist more</td>\n",
       "      <td>local-playlist</td>\n",
       "      <td>13</td>\n",
       "      <td>24</td>\n",
       "      <td>1</td>\n",
       "      <td>9</td>\n",
       "      <td>2011</td>\n",
       "      <td>...</td>\n",
       "      <td></td>\n",
       "      <td>52.0</td>\n",
       "      <td>35</td>\n",
       "      <td>0</td>\n",
       "      <td>0</td>\n",
       "      <td>0</td>\n",
       "      <td>0</td>\n",
       "      <td>0</td>\n",
       "      <td>0</td>\n",
       "      <td>0</td>\n",
       "    </tr>\n",
       "    <tr>\n",
       "      <th>3</th>\n",
       "      <td>Xumu+NIjS6QYVxDS4/t3SawvJ7viT9hPKXmf0RtLNx8=</td>\n",
       "      <td>2A87tzfnJTSWqD7gIZHisolhe4DMdzkbd6LzO1KHjNs=</td>\n",
       "      <td>my library</td>\n",
       "      <td>Local playlist more</td>\n",
       "      <td>local-playlist</td>\n",
       "      <td>13</td>\n",
       "      <td>24</td>\n",
       "      <td>1</td>\n",
       "      <td>9</td>\n",
       "      <td>2011</td>\n",
       "      <td>...</td>\n",
       "      <td></td>\n",
       "      <td>-1.0</td>\n",
       "      <td>5</td>\n",
       "      <td>0</td>\n",
       "      <td>0</td>\n",
       "      <td>0</td>\n",
       "      <td>0</td>\n",
       "      <td>0</td>\n",
       "      <td>0</td>\n",
       "      <td>0</td>\n",
       "    </tr>\n",
       "    <tr>\n",
       "      <th>4</th>\n",
       "      <td>FGtllVqz18RPiwJj/edr2gV78zirAiY/9SmYvia+kCg=</td>\n",
       "      <td>3qm6XTZ6MOCU11x8FIVbAGH5l5uMkT3/ZalWG1oo2Gc=</td>\n",
       "      <td>explore</td>\n",
       "      <td>Explore</td>\n",
       "      <td>online-playlist</td>\n",
       "      <td>1</td>\n",
       "      <td>30</td>\n",
       "      <td>2</td>\n",
       "      <td>7</td>\n",
       "      <td>2012</td>\n",
       "      <td>...</td>\n",
       "      <td></td>\n",
       "      <td>52.0</td>\n",
       "      <td>4</td>\n",
       "      <td>0</td>\n",
       "      <td>0</td>\n",
       "      <td>0</td>\n",
       "      <td>0</td>\n",
       "      <td>0</td>\n",
       "      <td>0</td>\n",
       "      <td>0</td>\n",
       "    </tr>\n",
       "  </tbody>\n",
       "</table>\n",
       "<p>5 rows × 28 columns</p>\n",
       "</div>"
      ],
      "text/plain": [
       "                                           msno  \\\n",
       "0  FGtllVqz18RPiwJj/edr2gV78zirAiY/9SmYvia+kCg=   \n",
       "1  Xumu+NIjS6QYVxDS4/t3SawvJ7viT9hPKXmf0RtLNx8=   \n",
       "2  Xumu+NIjS6QYVxDS4/t3SawvJ7viT9hPKXmf0RtLNx8=   \n",
       "3  Xumu+NIjS6QYVxDS4/t3SawvJ7viT9hPKXmf0RtLNx8=   \n",
       "4  FGtllVqz18RPiwJj/edr2gV78zirAiY/9SmYvia+kCg=   \n",
       "\n",
       "                                        song_id source_system_tab  \\\n",
       "0  BBzumQNXUHKdEBOB7mAJuzok+IJA1c2Ryg/yzTF6tik=           explore   \n",
       "1  bhp/MpSNoqoxOIB+/l8WPqu6jldth4DIpCm3ayXnJqM=        my library   \n",
       "2  JNWfrrC7zNN7BdMpsISKa4Mw+xVJYNnxXh3/Epw7QgY=        my library   \n",
       "3  2A87tzfnJTSWqD7gIZHisolhe4DMdzkbd6LzO1KHjNs=        my library   \n",
       "4  3qm6XTZ6MOCU11x8FIVbAGH5l5uMkT3/ZalWG1oo2Gc=           explore   \n",
       "\n",
       "    source_screen_name      source_type  city  bd  gender  registered_via  \\\n",
       "0              Explore  online-playlist     1  30       2               7   \n",
       "1  Local playlist more   local-playlist    13  24       1               9   \n",
       "2  Local playlist more   local-playlist    13  24       1               9   \n",
       "3  Local playlist more   local-playlist    13  24       1               9   \n",
       "4              Explore  online-playlist     1  30       2               7   \n",
       "\n",
       "   reg_year  ...  lyricist  language    0  1  2  3  4  5  6  7  \n",
       "0      2012  ...                52.0  106  0  0  0  0  0  0  0  \n",
       "1      2011  ...                52.0   35  0  0  0  0  0  0  0  \n",
       "2      2011  ...                52.0   35  0  0  0  0  0  0  0  \n",
       "3      2011  ...                -1.0    5  0  0  0  0  0  0  0  \n",
       "4      2012  ...                52.0    4  0  0  0  0  0  0  0  \n",
       "\n",
       "[5 rows x 28 columns]"
      ]
     },
     "execution_count": 50,
     "metadata": {},
     "output_type": "execute_result"
    }
   ],
   "source": [
    "all_data.head()"
   ]
  },
  {
   "cell_type": "code",
   "execution_count": 51,
   "id": "cf6e5cb8",
   "metadata": {
    "execution": {
     "iopub.execute_input": "2022-09-13T21:01:48.200679Z",
     "iopub.status.busy": "2022-09-13T21:01:48.199918Z",
     "iopub.status.idle": "2022-09-13T21:01:50.224108Z",
     "shell.execute_reply": "2022-09-13T21:01:50.222686Z"
    },
    "papermill": {
     "duration": 2.050761,
     "end_time": "2022-09-13T21:01:50.226805",
     "exception": false,
     "start_time": "2022-09-13T21:01:48.176044",
     "status": "completed"
    },
    "tags": []
   },
   "outputs": [
    {
     "data": {
      "text/plain": [
       "composer    86203\n",
       "dtype: int64"
      ]
     },
     "execution_count": 51,
     "metadata": {},
     "output_type": "execute_result"
    }
   ],
   "source": [
    "all_data[['composer']].nunique()"
   ]
  },
  {
   "cell_type": "code",
   "execution_count": 52,
   "id": "92be4b3a",
   "metadata": {
    "execution": {
     "iopub.execute_input": "2022-09-13T21:01:50.275502Z",
     "iopub.status.busy": "2022-09-13T21:01:50.274242Z",
     "iopub.status.idle": "2022-09-13T21:01:55.880020Z",
     "shell.execute_reply": "2022-09-13T21:01:55.878847Z"
    },
    "papermill": {
     "duration": 5.632953,
     "end_time": "2022-09-13T21:01:55.882817",
     "exception": false,
     "start_time": "2022-09-13T21:01:50.249864",
     "status": "completed"
    },
    "tags": []
   },
   "outputs": [],
   "source": [
    "categorical_col = ['city','gender','registered_via','language','artist_name','composer','lyricist']\n",
    "for col in all_data.columns:\n",
    "    if all_data[col].dtype in [bool ,object, 'category'] and len(all_data[col].unique()) <= 50:\n",
    "        categorical_col.append(col)"
   ]
  },
  {
   "cell_type": "code",
   "execution_count": 53,
   "id": "9f9ade95",
   "metadata": {
    "execution": {
     "iopub.execute_input": "2022-09-13T21:01:55.929391Z",
     "iopub.status.busy": "2022-09-13T21:01:55.928935Z",
     "iopub.status.idle": "2022-09-13T21:01:55.936258Z",
     "shell.execute_reply": "2022-09-13T21:01:55.934985Z"
    },
    "papermill": {
     "duration": 0.033763,
     "end_time": "2022-09-13T21:01:55.938779",
     "exception": false,
     "start_time": "2022-09-13T21:01:55.905016",
     "status": "completed"
    },
    "tags": []
   },
   "outputs": [
    {
     "data": {
      "text/plain": [
       "['city',\n",
       " 'gender',\n",
       " 'registered_via',\n",
       " 'language',\n",
       " 'artist_name',\n",
       " 'composer',\n",
       " 'lyricist',\n",
       " 'source_system_tab',\n",
       " 'source_screen_name',\n",
       " 'source_type']"
      ]
     },
     "execution_count": 53,
     "metadata": {},
     "output_type": "execute_result"
    }
   ],
   "source": [
    "categorical_col"
   ]
  },
  {
   "cell_type": "code",
   "execution_count": 54,
   "id": "ddbe29c2",
   "metadata": {
    "execution": {
     "iopub.execute_input": "2022-09-13T21:01:55.985429Z",
     "iopub.status.busy": "2022-09-13T21:01:55.984675Z",
     "iopub.status.idle": "2022-09-13T21:01:58.454584Z",
     "shell.execute_reply": "2022-09-13T21:01:58.453192Z"
    },
    "papermill": {
     "duration": 2.496872,
     "end_time": "2022-09-13T21:01:58.457908",
     "exception": false,
     "start_time": "2022-09-13T21:01:55.961036",
     "status": "completed"
    },
    "tags": []
   },
   "outputs": [],
   "source": [
    "for col in categorical_col:\n",
    "    all_data[col] = all_data[col].astype(\"category\").cat.codes"
   ]
  },
  {
   "cell_type": "code",
   "execution_count": 55,
   "id": "b15e6147",
   "metadata": {
    "execution": {
     "iopub.execute_input": "2022-09-13T21:01:58.504492Z",
     "iopub.status.busy": "2022-09-13T21:01:58.504067Z",
     "iopub.status.idle": "2022-09-13T21:01:58.526684Z",
     "shell.execute_reply": "2022-09-13T21:01:58.525446Z"
    },
    "papermill": {
     "duration": 0.049202,
     "end_time": "2022-09-13T21:01:58.529137",
     "exception": false,
     "start_time": "2022-09-13T21:01:58.479935",
     "status": "completed"
    },
    "tags": []
   },
   "outputs": [
    {
     "data": {
      "text/html": [
       "<div>\n",
       "<style scoped>\n",
       "    .dataframe tbody tr th:only-of-type {\n",
       "        vertical-align: middle;\n",
       "    }\n",
       "\n",
       "    .dataframe tbody tr th {\n",
       "        vertical-align: top;\n",
       "    }\n",
       "\n",
       "    .dataframe thead th {\n",
       "        text-align: right;\n",
       "    }\n",
       "</style>\n",
       "<table border=\"1\" class=\"dataframe\">\n",
       "  <thead>\n",
       "    <tr style=\"text-align: right;\">\n",
       "      <th></th>\n",
       "      <th>msno</th>\n",
       "      <th>song_id</th>\n",
       "      <th>source_system_tab</th>\n",
       "      <th>source_screen_name</th>\n",
       "      <th>source_type</th>\n",
       "      <th>city</th>\n",
       "      <th>bd</th>\n",
       "      <th>gender</th>\n",
       "      <th>registered_via</th>\n",
       "      <th>reg_year</th>\n",
       "      <th>...</th>\n",
       "      <th>lyricist</th>\n",
       "      <th>language</th>\n",
       "      <th>0</th>\n",
       "      <th>1</th>\n",
       "      <th>2</th>\n",
       "      <th>3</th>\n",
       "      <th>4</th>\n",
       "      <th>5</th>\n",
       "      <th>6</th>\n",
       "      <th>7</th>\n",
       "    </tr>\n",
       "  </thead>\n",
       "  <tbody>\n",
       "    <tr>\n",
       "      <th>0</th>\n",
       "      <td>FGtllVqz18RPiwJj/edr2gV78zirAiY/9SmYvia+kCg=</td>\n",
       "      <td>BBzumQNXUHKdEBOB7mAJuzok+IJA1c2Ryg/yzTF6tik=</td>\n",
       "      <td>2</td>\n",
       "      <td>8</td>\n",
       "      <td>7</td>\n",
       "      <td>0</td>\n",
       "      <td>30</td>\n",
       "      <td>1</td>\n",
       "      <td>2</td>\n",
       "      <td>2012</td>\n",
       "      <td>...</td>\n",
       "      <td>0</td>\n",
       "      <td>8</td>\n",
       "      <td>106</td>\n",
       "      <td>0</td>\n",
       "      <td>0</td>\n",
       "      <td>0</td>\n",
       "      <td>0</td>\n",
       "      <td>0</td>\n",
       "      <td>0</td>\n",
       "      <td>0</td>\n",
       "    </tr>\n",
       "    <tr>\n",
       "      <th>1</th>\n",
       "      <td>Xumu+NIjS6QYVxDS4/t3SawvJ7viT9hPKXmf0RtLNx8=</td>\n",
       "      <td>bhp/MpSNoqoxOIB+/l8WPqu6jldth4DIpCm3ayXnJqM=</td>\n",
       "      <td>4</td>\n",
       "      <td>9</td>\n",
       "      <td>5</td>\n",
       "      <td>11</td>\n",
       "      <td>24</td>\n",
       "      <td>0</td>\n",
       "      <td>3</td>\n",
       "      <td>2011</td>\n",
       "      <td>...</td>\n",
       "      <td>0</td>\n",
       "      <td>8</td>\n",
       "      <td>35</td>\n",
       "      <td>0</td>\n",
       "      <td>0</td>\n",
       "      <td>0</td>\n",
       "      <td>0</td>\n",
       "      <td>0</td>\n",
       "      <td>0</td>\n",
       "      <td>0</td>\n",
       "    </tr>\n",
       "    <tr>\n",
       "      <th>2</th>\n",
       "      <td>Xumu+NIjS6QYVxDS4/t3SawvJ7viT9hPKXmf0RtLNx8=</td>\n",
       "      <td>JNWfrrC7zNN7BdMpsISKa4Mw+xVJYNnxXh3/Epw7QgY=</td>\n",
       "      <td>4</td>\n",
       "      <td>9</td>\n",
       "      <td>5</td>\n",
       "      <td>11</td>\n",
       "      <td>24</td>\n",
       "      <td>0</td>\n",
       "      <td>3</td>\n",
       "      <td>2011</td>\n",
       "      <td>...</td>\n",
       "      <td>0</td>\n",
       "      <td>8</td>\n",
       "      <td>35</td>\n",
       "      <td>0</td>\n",
       "      <td>0</td>\n",
       "      <td>0</td>\n",
       "      <td>0</td>\n",
       "      <td>0</td>\n",
       "      <td>0</td>\n",
       "      <td>0</td>\n",
       "    </tr>\n",
       "    <tr>\n",
       "      <th>3</th>\n",
       "      <td>Xumu+NIjS6QYVxDS4/t3SawvJ7viT9hPKXmf0RtLNx8=</td>\n",
       "      <td>2A87tzfnJTSWqD7gIZHisolhe4DMdzkbd6LzO1KHjNs=</td>\n",
       "      <td>4</td>\n",
       "      <td>9</td>\n",
       "      <td>5</td>\n",
       "      <td>11</td>\n",
       "      <td>24</td>\n",
       "      <td>0</td>\n",
       "      <td>3</td>\n",
       "      <td>2011</td>\n",
       "      <td>...</td>\n",
       "      <td>0</td>\n",
       "      <td>0</td>\n",
       "      <td>5</td>\n",
       "      <td>0</td>\n",
       "      <td>0</td>\n",
       "      <td>0</td>\n",
       "      <td>0</td>\n",
       "      <td>0</td>\n",
       "      <td>0</td>\n",
       "      <td>0</td>\n",
       "    </tr>\n",
       "    <tr>\n",
       "      <th>4</th>\n",
       "      <td>FGtllVqz18RPiwJj/edr2gV78zirAiY/9SmYvia+kCg=</td>\n",
       "      <td>3qm6XTZ6MOCU11x8FIVbAGH5l5uMkT3/ZalWG1oo2Gc=</td>\n",
       "      <td>2</td>\n",
       "      <td>8</td>\n",
       "      <td>7</td>\n",
       "      <td>0</td>\n",
       "      <td>30</td>\n",
       "      <td>1</td>\n",
       "      <td>2</td>\n",
       "      <td>2012</td>\n",
       "      <td>...</td>\n",
       "      <td>0</td>\n",
       "      <td>8</td>\n",
       "      <td>4</td>\n",
       "      <td>0</td>\n",
       "      <td>0</td>\n",
       "      <td>0</td>\n",
       "      <td>0</td>\n",
       "      <td>0</td>\n",
       "      <td>0</td>\n",
       "      <td>0</td>\n",
       "    </tr>\n",
       "  </tbody>\n",
       "</table>\n",
       "<p>5 rows × 28 columns</p>\n",
       "</div>"
      ],
      "text/plain": [
       "                                           msno  \\\n",
       "0  FGtllVqz18RPiwJj/edr2gV78zirAiY/9SmYvia+kCg=   \n",
       "1  Xumu+NIjS6QYVxDS4/t3SawvJ7viT9hPKXmf0RtLNx8=   \n",
       "2  Xumu+NIjS6QYVxDS4/t3SawvJ7viT9hPKXmf0RtLNx8=   \n",
       "3  Xumu+NIjS6QYVxDS4/t3SawvJ7viT9hPKXmf0RtLNx8=   \n",
       "4  FGtllVqz18RPiwJj/edr2gV78zirAiY/9SmYvia+kCg=   \n",
       "\n",
       "                                        song_id  source_system_tab  \\\n",
       "0  BBzumQNXUHKdEBOB7mAJuzok+IJA1c2Ryg/yzTF6tik=                  2   \n",
       "1  bhp/MpSNoqoxOIB+/l8WPqu6jldth4DIpCm3ayXnJqM=                  4   \n",
       "2  JNWfrrC7zNN7BdMpsISKa4Mw+xVJYNnxXh3/Epw7QgY=                  4   \n",
       "3  2A87tzfnJTSWqD7gIZHisolhe4DMdzkbd6LzO1KHjNs=                  4   \n",
       "4  3qm6XTZ6MOCU11x8FIVbAGH5l5uMkT3/ZalWG1oo2Gc=                  2   \n",
       "\n",
       "   source_screen_name  source_type  city  bd  gender  registered_via  \\\n",
       "0                   8            7     0  30       1               2   \n",
       "1                   9            5    11  24       0               3   \n",
       "2                   9            5    11  24       0               3   \n",
       "3                   9            5    11  24       0               3   \n",
       "4                   8            7     0  30       1               2   \n",
       "\n",
       "   reg_year  ...  lyricist  language    0  1  2  3  4  5  6  7  \n",
       "0      2012  ...         0         8  106  0  0  0  0  0  0  0  \n",
       "1      2011  ...         0         8   35  0  0  0  0  0  0  0  \n",
       "2      2011  ...         0         8   35  0  0  0  0  0  0  0  \n",
       "3      2011  ...         0         0    5  0  0  0  0  0  0  0  \n",
       "4      2012  ...         0         8    4  0  0  0  0  0  0  0  \n",
       "\n",
       "[5 rows x 28 columns]"
      ]
     },
     "execution_count": 55,
     "metadata": {},
     "output_type": "execute_result"
    }
   ],
   "source": [
    "all_data.head()"
   ]
  },
  {
   "cell_type": "code",
   "execution_count": 56,
   "id": "00e44517",
   "metadata": {
    "execution": {
     "iopub.execute_input": "2022-09-13T21:01:58.576494Z",
     "iopub.status.busy": "2022-09-13T21:01:58.576073Z",
     "iopub.status.idle": "2022-09-13T21:01:59.459548Z",
     "shell.execute_reply": "2022-09-13T21:01:59.458647Z"
    },
    "papermill": {
     "duration": 0.910267,
     "end_time": "2022-09-13T21:01:59.462042",
     "exception": false,
     "start_time": "2022-09-13T21:01:58.551775",
     "status": "completed"
    },
    "tags": []
   },
   "outputs": [
    {
     "data": {
      "text/plain": [
       "MXIMDXO0j3UpaT7FvOSGW6Y5zfhlh+xYjTqGoUdMzEE=    7894\n",
       "o+5RNlSWrzvrphgBNGIo1FLkGxBgyICns6qXj3nS7Pk=    7318\n",
       "FGtllVqz18RPiwJj/edr2gV78zirAiY/9SmYvia+kCg=    7075\n",
       "KGXNZ/H3VxvET/+rGxlrAe7Gpz2eKMXyuSg3xh8Ij1M=    6706\n",
       "cqjRBV/jWN2ujhc+z/4tz+Mj6xEfflAAt6qBXCqxKvw=    5446\n",
       "                                                ... \n",
       "U8+k0YmjY2aDIM7Wd9ejIF/XqZkoWbBlv+2booso86A=       1\n",
       "0Yby35OBCWJyG0HOTIx003npPQ8mMY51ZI+Q6JulBqI=       1\n",
       "YBw/FWdyTgpVStJFzPn0aVf3/dtQwxAiHmvAu3pxyoI=       1\n",
       "g0cf2zdSgmLeBAHJZJZc85VD4l6f6xKkNegrh8VEAms=       1\n",
       "q9mrx9lx8969hkkTf4h96PqKeeG0DTC5iMLuc/6VDSI=       1\n",
       "Name: msno, Length: 34403, dtype: int64"
      ]
     },
     "execution_count": 56,
     "metadata": {},
     "output_type": "execute_result"
    }
   ],
   "source": [
    "all_data['msno'].value_counts()"
   ]
  },
  {
   "cell_type": "code",
   "execution_count": 57,
   "id": "fb570341",
   "metadata": {
    "execution": {
     "iopub.execute_input": "2022-09-13T21:01:59.509007Z",
     "iopub.status.busy": "2022-09-13T21:01:59.507989Z",
     "iopub.status.idle": "2022-09-13T21:01:59.516087Z",
     "shell.execute_reply": "2022-09-13T21:01:59.514838Z"
    },
    "papermill": {
     "duration": 0.033832,
     "end_time": "2022-09-13T21:01:59.518439",
     "exception": false,
     "start_time": "2022-09-13T21:01:59.484607",
     "status": "completed"
    },
    "tags": []
   },
   "outputs": [
    {
     "name": "stdout",
     "output_type": "stream",
     "text": [
      "in Index([<class 'str'>, <class 'str'>, <class 'str'>, <class 'str'>,\n",
      "       <class 'str'>, <class 'str'>, <class 'str'>, <class 'str'>,\n",
      "       <class 'str'>, <class 'str'>, <class 'str'>, <class 'str'>,\n",
      "       <class 'str'>, <class 'str'>, <class 'str'>, <class 'str'>,\n",
      "       <class 'str'>, <class 'str'>, <class 'str'>, <class 'str'>,\n",
      "       <class 'int'>, <class 'int'>, <class 'int'>, <class 'int'>,\n",
      "       <class 'int'>, <class 'int'>, <class 'int'>, <class 'int'>],\n",
      "      dtype='object')\n",
      "out Index([<class 'str'>, <class 'str'>, <class 'str'>, <class 'str'>,\n",
      "       <class 'str'>, <class 'str'>, <class 'str'>, <class 'str'>,\n",
      "       <class 'str'>, <class 'str'>, <class 'str'>, <class 'str'>,\n",
      "       <class 'str'>, <class 'str'>, <class 'str'>, <class 'str'>,\n",
      "       <class 'str'>, <class 'str'>, <class 'str'>, <class 'str'>,\n",
      "       <class 'str'>, <class 'str'>, <class 'str'>, <class 'str'>,\n",
      "       <class 'str'>, <class 'str'>, <class 'str'>, <class 'str'>],\n",
      "      dtype='object')\n"
     ]
    }
   ],
   "source": [
    "print('in',all_data.columns.map(type))\n",
    "all_data.columns = all_data.columns.astype(str)\n",
    "print('out',all_data.columns.map(type))"
   ]
  },
  {
   "cell_type": "code",
   "execution_count": 58,
   "id": "d8b187bd",
   "metadata": {
    "execution": {
     "iopub.execute_input": "2022-09-13T21:01:59.565397Z",
     "iopub.status.busy": "2022-09-13T21:01:59.564156Z",
     "iopub.status.idle": "2022-09-13T21:02:00.313293Z",
     "shell.execute_reply": "2022-09-13T21:02:00.312099Z"
    },
    "papermill": {
     "duration": 0.775525,
     "end_time": "2022-09-13T21:02:00.316174",
     "exception": false,
     "start_time": "2022-09-13T21:01:59.540649",
     "status": "completed"
    },
    "tags": []
   },
   "outputs": [
    {
     "data": {
      "text/plain": [
       "((7377418, 29), (2556790, 28))"
      ]
     },
     "execution_count": 58,
     "metadata": {},
     "output_type": "execute_result"
    }
   ],
   "source": [
    "train_data = all_data[:ntrain].copy()\n",
    "test_data = all_data[ntrain:]\n",
    "train_data['target'] = y_train\n",
    "\n",
    "train_data.shape , test_data.shape"
   ]
  },
  {
   "cell_type": "code",
   "execution_count": 59,
   "id": "601b9f7b",
   "metadata": {
    "execution": {
     "iopub.execute_input": "2022-09-13T21:02:00.363567Z",
     "iopub.status.busy": "2022-09-13T21:02:00.362297Z",
     "iopub.status.idle": "2022-09-13T21:02:00.372058Z",
     "shell.execute_reply": "2022-09-13T21:02:00.370919Z"
    },
    "papermill": {
     "duration": 0.035954,
     "end_time": "2022-09-13T21:02:00.374514",
     "exception": false,
     "start_time": "2022-09-13T21:02:00.338560",
     "status": "completed"
    },
    "tags": []
   },
   "outputs": [
    {
     "data": {
      "text/plain": [
       "0    1.0\n",
       "1    1.0\n",
       "2    1.0\n",
       "3    1.0\n",
       "4    1.0\n",
       "Name: target, dtype: float16"
      ]
     },
     "execution_count": 59,
     "metadata": {},
     "output_type": "execute_result"
    }
   ],
   "source": [
    "train_data['target'].head()"
   ]
  },
  {
   "cell_type": "code",
   "execution_count": 60,
   "id": "37a39c04",
   "metadata": {
    "execution": {
     "iopub.execute_input": "2022-09-13T21:02:00.422042Z",
     "iopub.status.busy": "2022-09-13T21:02:00.421650Z",
     "iopub.status.idle": "2022-09-13T21:02:00.625480Z",
     "shell.execute_reply": "2022-09-13T21:02:00.623989Z"
    },
    "papermill": {
     "duration": 0.230912,
     "end_time": "2022-09-13T21:02:00.628392",
     "exception": false,
     "start_time": "2022-09-13T21:02:00.397480",
     "status": "completed"
    },
    "tags": []
   },
   "outputs": [],
   "source": [
    "train_data['target'] = train_data['target'].astype(\"category\").cat.codes"
   ]
  },
  {
   "cell_type": "code",
   "execution_count": 61,
   "id": "507f08f2",
   "metadata": {
    "execution": {
     "iopub.execute_input": "2022-09-13T21:02:00.676283Z",
     "iopub.status.busy": "2022-09-13T21:02:00.675870Z",
     "iopub.status.idle": "2022-09-13T21:02:00.684881Z",
     "shell.execute_reply": "2022-09-13T21:02:00.683687Z"
    },
    "papermill": {
     "duration": 0.035936,
     "end_time": "2022-09-13T21:02:00.687218",
     "exception": false,
     "start_time": "2022-09-13T21:02:00.651282",
     "status": "completed"
    },
    "tags": []
   },
   "outputs": [
    {
     "data": {
      "text/plain": [
       "0    1\n",
       "1    1\n",
       "2    1\n",
       "3    1\n",
       "4    1\n",
       "Name: target, dtype: int8"
      ]
     },
     "execution_count": 61,
     "metadata": {},
     "output_type": "execute_result"
    }
   ],
   "source": [
    "train_data['target'].head()"
   ]
  },
  {
   "cell_type": "code",
   "execution_count": 62,
   "id": "6a1d8aec",
   "metadata": {
    "execution": {
     "iopub.execute_input": "2022-09-13T21:02:00.736067Z",
     "iopub.status.busy": "2022-09-13T21:02:00.735685Z",
     "iopub.status.idle": "2022-09-13T21:02:01.361327Z",
     "shell.execute_reply": "2022-09-13T21:02:01.359690Z"
    },
    "papermill": {
     "duration": 0.653778,
     "end_time": "2022-09-13T21:02:01.363858",
     "exception": false,
     "start_time": "2022-09-13T21:02:00.710080",
     "status": "completed"
    },
    "tags": []
   },
   "outputs": [
    {
     "data": {
      "text/plain": [
       "((7377418, 26), (7377418,))"
      ]
     },
     "execution_count": 62,
     "metadata": {},
     "output_type": "execute_result"
    }
   ],
   "source": [
    "X_train = train_data.drop(['target','msno','song_id'], axis = 1)\n",
    "test_data = test_data.drop(['msno','song_id'],axis = 1)\n",
    "y_train = train_data.target\n",
    "X_train.shape , y_train.shape\n"
   ]
  },
  {
   "cell_type": "code",
   "execution_count": 63,
   "id": "34f218d6",
   "metadata": {
    "execution": {
     "iopub.execute_input": "2022-09-13T21:02:01.412436Z",
     "iopub.status.busy": "2022-09-13T21:02:01.411585Z",
     "iopub.status.idle": "2022-09-13T21:02:07.144413Z",
     "shell.execute_reply": "2022-09-13T21:02:07.143099Z"
    },
    "papermill": {
     "duration": 5.760888,
     "end_time": "2022-09-13T21:02:07.147974",
     "exception": false,
     "start_time": "2022-09-13T21:02:01.387086",
     "status": "completed"
    },
    "tags": []
   },
   "outputs": [],
   "source": [
    "from sklearn.model_selection import train_test_split, GridSearchCV, KFold, StratifiedKFold, RepeatedStratifiedKFold\n",
    "from sklearn.preprocessing import MinMaxScaler, StandardScaler, RobustScaler, Normalizer, PowerTransformer\n",
    "scaler = StandardScaler().fit(X_train)\n",
    "X_train_scaled = scaler.transform(X_train)\n",
    "test_data_scaled = scaler.transform(test_data)"
   ]
  },
  {
   "cell_type": "code",
   "execution_count": 64,
   "id": "255505a6",
   "metadata": {
    "execution": {
     "iopub.execute_input": "2022-09-13T21:02:07.196848Z",
     "iopub.status.busy": "2022-09-13T21:02:07.196149Z",
     "iopub.status.idle": "2022-09-13T21:02:07.205208Z",
     "shell.execute_reply": "2022-09-13T21:02:07.204284Z"
    },
    "papermill": {
     "duration": 0.03691,
     "end_time": "2022-09-13T21:02:07.207679",
     "exception": false,
     "start_time": "2022-09-13T21:02:07.170769",
     "status": "completed"
    },
    "tags": []
   },
   "outputs": [],
   "source": [
    "X_train = X_train_scaled\n",
    "test_data = test_data_scaled"
   ]
  },
  {
   "cell_type": "code",
   "execution_count": 65,
   "id": "986fe884",
   "metadata": {
    "execution": {
     "iopub.execute_input": "2022-09-13T21:02:07.267316Z",
     "iopub.status.busy": "2022-09-13T21:02:07.266654Z",
     "iopub.status.idle": "2022-09-13T21:16:01.726697Z",
     "shell.execute_reply": "2022-09-13T21:16:01.725176Z"
    },
    "papermill": {
     "duration": 834.498003,
     "end_time": "2022-09-13T21:16:01.729926",
     "exception": false,
     "start_time": "2022-09-13T21:02:07.231923",
     "status": "completed"
    },
    "tags": []
   },
   "outputs": [
    {
     "name": "stderr",
     "output_type": "stream",
     "text": [
      "/opt/conda/lib/python3.7/site-packages/lightgbm/engine.py:177: UserWarning: Found `num_rounds` in params. Will use it instead of argument\n",
      "  _log_warning(f\"Found `{alias}` in params. Will use it instead of argument\")\n",
      "/opt/conda/lib/python3.7/site-packages/lightgbm/engine.py:239: UserWarning: 'verbose_eval' argument is deprecated and will be removed in a future release of LightGBM. Pass 'log_evaluation()' callback via 'callbacks' argument instead.\n",
      "  _log_warning(\"'verbose_eval' argument is deprecated and will be removed in a future release of LightGBM. \"\n"
     ]
    },
    {
     "name": "stdout",
     "output_type": "stream",
     "text": [
      "[LightGBM] [Warning] Auto-choosing row-wise multi-threading, the overhead of testing was 0.902924 seconds.\n",
      "You can set `force_row_wise=true` to remove the overhead.\n",
      "And if memory is not enough, you can set `force_col_wise=true`.\n",
      "[5]\ttraining's auc: 0.689416\n",
      "[10]\ttraining's auc: 0.700953\n",
      "[15]\ttraining's auc: 0.710045\n",
      "[20]\ttraining's auc: 0.716432\n",
      "[25]\ttraining's auc: 0.722384\n",
      "[30]\ttraining's auc: 0.726775\n",
      "[35]\ttraining's auc: 0.730963\n",
      "[40]\ttraining's auc: 0.734333\n",
      "[45]\ttraining's auc: 0.737629\n",
      "[50]\ttraining's auc: 0.740885\n",
      "[55]\ttraining's auc: 0.743809\n",
      "[60]\ttraining's auc: 0.746304\n",
      "[65]\ttraining's auc: 0.748518\n",
      "[70]\ttraining's auc: 0.750819\n",
      "[75]\ttraining's auc: 0.753333\n",
      "[80]\ttraining's auc: 0.755324\n",
      "[85]\ttraining's auc: 0.756772\n",
      "[90]\ttraining's auc: 0.758361\n",
      "[95]\ttraining's auc: 0.760253\n",
      "[100]\ttraining's auc: 0.761796\n",
      "[105]\ttraining's auc: 0.763141\n",
      "[110]\ttraining's auc: 0.764613\n",
      "[115]\ttraining's auc: 0.766564\n",
      "[120]\ttraining's auc: 0.76745\n",
      "[125]\ttraining's auc: 0.768466\n",
      "[130]\ttraining's auc: 0.769817\n",
      "[135]\ttraining's auc: 0.771046\n",
      "[140]\ttraining's auc: 0.772183\n",
      "[145]\ttraining's auc: 0.773047\n",
      "[150]\ttraining's auc: 0.774278\n",
      "[155]\ttraining's auc: 0.775262\n",
      "[160]\ttraining's auc: 0.776315\n",
      "[165]\ttraining's auc: 0.777003\n",
      "[170]\ttraining's auc: 0.777682\n",
      "[175]\ttraining's auc: 0.779154\n",
      "[180]\ttraining's auc: 0.780456\n",
      "[185]\ttraining's auc: 0.781008\n",
      "[190]\ttraining's auc: 0.782049\n",
      "[195]\ttraining's auc: 0.782964\n",
      "[200]\ttraining's auc: 0.783626\n",
      "[205]\ttraining's auc: 0.784347\n",
      "[210]\ttraining's auc: 0.785198\n",
      "[215]\ttraining's auc: 0.786037\n",
      "[220]\ttraining's auc: 0.786798\n",
      "[225]\ttraining's auc: 0.787797\n",
      "[230]\ttraining's auc: 0.788565\n",
      "[235]\ttraining's auc: 0.789134\n",
      "[240]\ttraining's auc: 0.789875\n",
      "[245]\ttraining's auc: 0.790651\n",
      "[250]\ttraining's auc: 0.791651\n",
      "[255]\ttraining's auc: 0.792295\n",
      "[260]\ttraining's auc: 0.793095\n",
      "[265]\ttraining's auc: 0.793889\n",
      "[270]\ttraining's auc: 0.794546\n",
      "[275]\ttraining's auc: 0.795034\n",
      "[280]\ttraining's auc: 0.795647\n",
      "[285]\ttraining's auc: 0.796305\n",
      "[290]\ttraining's auc: 0.796971\n",
      "[295]\ttraining's auc: 0.797622\n",
      "[300]\ttraining's auc: 0.798346\n",
      "[305]\ttraining's auc: 0.799095\n",
      "[310]\ttraining's auc: 0.799661\n",
      "[315]\ttraining's auc: 0.800189\n",
      "[320]\ttraining's auc: 0.80061\n",
      "[325]\ttraining's auc: 0.800985\n",
      "[330]\ttraining's auc: 0.80154\n",
      "[335]\ttraining's auc: 0.802177\n",
      "[340]\ttraining's auc: 0.802581\n",
      "[345]\ttraining's auc: 0.803073\n",
      "[350]\ttraining's auc: 0.803639\n",
      "[355]\ttraining's auc: 0.80413\n",
      "[360]\ttraining's auc: 0.804714\n",
      "[365]\ttraining's auc: 0.805193\n",
      "[370]\ttraining's auc: 0.805552\n",
      "[375]\ttraining's auc: 0.805975\n",
      "[380]\ttraining's auc: 0.806577\n",
      "[385]\ttraining's auc: 0.80703\n",
      "[390]\ttraining's auc: 0.807422\n",
      "[395]\ttraining's auc: 0.807808\n",
      "[400]\ttraining's auc: 0.808156\n",
      "[405]\ttraining's auc: 0.808481\n",
      "[410]\ttraining's auc: 0.808853\n",
      "[415]\ttraining's auc: 0.809286\n",
      "[420]\ttraining's auc: 0.80969\n",
      "[425]\ttraining's auc: 0.810088\n",
      "[430]\ttraining's auc: 0.810709\n",
      "[435]\ttraining's auc: 0.811055\n",
      "[440]\ttraining's auc: 0.811418\n",
      "[445]\ttraining's auc: 0.811821\n",
      "[450]\ttraining's auc: 0.812246\n",
      "[455]\ttraining's auc: 0.812661\n",
      "[460]\ttraining's auc: 0.813002\n",
      "[465]\ttraining's auc: 0.813575\n",
      "[470]\ttraining's auc: 0.814062\n",
      "[475]\ttraining's auc: 0.814473\n",
      "[480]\ttraining's auc: 0.814936\n",
      "[485]\ttraining's auc: 0.815453\n",
      "[490]\ttraining's auc: 0.815804\n",
      "[495]\ttraining's auc: 0.816222\n",
      "[500]\ttraining's auc: 0.816605\n",
      "CPU times: user 42min 12s, sys: 13.5 s, total: 42min 25s\n",
      "Wall time: 13min 54s\n",
      "834.4456300735474\n"
     ]
    }
   ],
   "source": [
    "import lightgbm as lgb\n",
    "start = time.time()\n",
    "train_set = lgb.Dataset(X_train , y_train)\n",
    "params = {\n",
    "        'objective': 'binary',\n",
    "        'metric': 'binary_logloss',\n",
    "        'boosting': 'gbdt',\n",
    "        'learning_rate': 0.3 ,\n",
    "        'verbose': 0,\n",
    "        'num_leaves': 216,\n",
    "        'bagging_fraction': 0.95,\n",
    "        'bagging_freq': 1,\n",
    "        'bagging_seed': 1,\n",
    "        'feature_fraction': 0.9,\n",
    "        'feature_fraction_seed': 1,\n",
    "        'max_bin': 510,\n",
    "        'max_depth': 20,\n",
    "        'num_rounds': 500,\n",
    "        'metric' : 'auc'\n",
    "    }\n",
    "\n",
    "%time model_f1 = lgb.train(params, train_set=train_set,  valid_sets=train_set, verbose_eval=5)\n",
    "\n",
    "end = time.time()\n",
    "print(end - start)"
   ]
  },
  {
   "cell_type": "code",
   "execution_count": 66,
   "id": "7db3d895",
   "metadata": {
    "execution": {
     "iopub.execute_input": "2022-09-13T21:16:01.791704Z",
     "iopub.status.busy": "2022-09-13T21:16:01.790942Z",
     "iopub.status.idle": "2022-09-13T21:16:41.839821Z",
     "shell.execute_reply": "2022-09-13T21:16:41.838562Z"
    },
    "papermill": {
     "duration": 40.112407,
     "end_time": "2022-09-13T21:16:41.872543",
     "exception": false,
     "start_time": "2022-09-13T21:16:01.760136",
     "status": "completed"
    },
    "tags": []
   },
   "outputs": [
    {
     "data": {
      "text/html": [
       "<div>\n",
       "<style scoped>\n",
       "    .dataframe tbody tr th:only-of-type {\n",
       "        vertical-align: middle;\n",
       "    }\n",
       "\n",
       "    .dataframe tbody tr th {\n",
       "        vertical-align: top;\n",
       "    }\n",
       "\n",
       "    .dataframe thead th {\n",
       "        text-align: right;\n",
       "    }\n",
       "</style>\n",
       "<table border=\"1\" class=\"dataframe\">\n",
       "  <thead>\n",
       "    <tr style=\"text-align: right;\">\n",
       "      <th></th>\n",
       "      <th>id</th>\n",
       "      <th>target</th>\n",
       "    </tr>\n",
       "  </thead>\n",
       "  <tbody>\n",
       "    <tr>\n",
       "      <th>0</th>\n",
       "      <td>0</td>\n",
       "      <td>0.548813</td>\n",
       "    </tr>\n",
       "    <tr>\n",
       "      <th>1</th>\n",
       "      <td>1</td>\n",
       "      <td>0.671198</td>\n",
       "    </tr>\n",
       "    <tr>\n",
       "      <th>2</th>\n",
       "      <td>2</td>\n",
       "      <td>0.166731</td>\n",
       "    </tr>\n",
       "    <tr>\n",
       "      <th>3</th>\n",
       "      <td>3</td>\n",
       "      <td>0.108912</td>\n",
       "    </tr>\n",
       "    <tr>\n",
       "      <th>4</th>\n",
       "      <td>4</td>\n",
       "      <td>0.147521</td>\n",
       "    </tr>\n",
       "  </tbody>\n",
       "</table>\n",
       "</div>"
      ],
      "text/plain": [
       "   id    target\n",
       "0   0  0.548813\n",
       "1   1  0.671198\n",
       "2   2  0.166731\n",
       "3   3  0.108912\n",
       "4   4  0.147521"
      ]
     },
     "execution_count": 66,
     "metadata": {},
     "output_type": "execute_result"
    }
   ],
   "source": [
    "predictions = model_f1.predict(pd.DataFrame(test_data).values)\n",
    "sub = pd.DataFrame()\n",
    "sub['id'] = test_df['id']\n",
    "sub['target'] = predictions\n",
    "sub.to_csv('submission.csv',index=False)\n",
    "sub.head()"
   ]
  },
  {
   "cell_type": "code",
   "execution_count": null,
   "id": "52336a9f",
   "metadata": {
    "papermill": {
     "duration": 0.030422,
     "end_time": "2022-09-13T21:16:41.933631",
     "exception": false,
     "start_time": "2022-09-13T21:16:41.903209",
     "status": "completed"
    },
    "tags": []
   },
   "outputs": [],
   "source": []
  }
 ],
 "metadata": {
  "kernelspec": {
   "display_name": "Python 3",
   "language": "python",
   "name": "python3"
  },
  "language_info": {
   "codemirror_mode": {
    "name": "ipython",
    "version": 3
   },
   "file_extension": ".py",
   "mimetype": "text/x-python",
   "name": "python",
   "nbconvert_exporter": "python",
   "pygments_lexer": "ipython3",
   "version": "3.7.12"
  },
  "papermill": {
   "default_parameters": {},
   "duration": 1590.988665,
   "end_time": "2022-09-13T21:16:44.593173",
   "environment_variables": {},
   "exception": null,
   "input_path": "__notebook__.ipynb",
   "output_path": "__notebook__.ipynb",
   "parameters": {},
   "start_time": "2022-09-13T20:50:13.604508",
   "version": "2.3.4"
  }
 },
 "nbformat": 4,
 "nbformat_minor": 5
}
